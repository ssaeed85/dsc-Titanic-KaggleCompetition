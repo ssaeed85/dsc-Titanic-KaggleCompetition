{
 "cells": [
  {
   "cell_type": "code",
   "execution_count": 1,
   "id": "8ca7973e",
   "metadata": {
    "ExecuteTime": {
     "end_time": "2022-07-08T16:08:49.634662Z",
     "start_time": "2022-07-08T16:08:48.450173Z"
    }
   },
   "outputs": [],
   "source": [
    "from src.pandas_helper import colInfo\n",
    "import pandas as pd\n",
    "import numpy as np\n",
    "\n",
    "from sklearn.preprocessing import StandardScaler,OneHotEncoder\n",
    "from sklearn.impute import SimpleImputer\n",
    "from sklearn.model_selection import GridSearchCV\n",
    "\n",
    "from sklearn.linear_model import LogisticRegression\n",
    "from sklearn.dummy import DummyClassifier\n",
    "\n",
    "from sklearn.ensemble import RandomForestClassifier"
   ]
  },
  {
   "cell_type": "code",
   "execution_count": 11,
   "id": "d0aa37f3",
   "metadata": {
    "ExecuteTime": {
     "end_time": "2022-07-08T16:09:21.584534Z",
     "start_time": "2022-07-08T16:09:21.571532Z"
    }
   },
   "outputs": [],
   "source": [
    "df_titanic = pd.read_csv('./data/train.csv')"
   ]
  },
  {
   "cell_type": "code",
   "execution_count": 3,
   "id": "4d0be95a",
   "metadata": {
    "ExecuteTime": {
     "end_time": "2022-07-08T16:08:49.665673Z",
     "start_time": "2022-07-08T16:08:49.651671Z"
    },
    "scrolled": true
   },
   "outputs": [
    {
     "data": {
      "text/html": [
       "<div>\n",
       "<style scoped>\n",
       "    .dataframe tbody tr th:only-of-type {\n",
       "        vertical-align: middle;\n",
       "    }\n",
       "\n",
       "    .dataframe tbody tr th {\n",
       "        vertical-align: top;\n",
       "    }\n",
       "\n",
       "    .dataframe thead th {\n",
       "        text-align: right;\n",
       "    }\n",
       "</style>\n",
       "<table border=\"1\" class=\"dataframe\">\n",
       "  <thead>\n",
       "    <tr style=\"text-align: right;\">\n",
       "      <th></th>\n",
       "      <th>PassengerId</th>\n",
       "      <th>Survived</th>\n",
       "      <th>Pclass</th>\n",
       "      <th>Name</th>\n",
       "      <th>Sex</th>\n",
       "      <th>Age</th>\n",
       "      <th>SibSp</th>\n",
       "      <th>Parch</th>\n",
       "      <th>Ticket</th>\n",
       "      <th>Fare</th>\n",
       "      <th>Cabin</th>\n",
       "      <th>Embarked</th>\n",
       "    </tr>\n",
       "  </thead>\n",
       "  <tbody>\n",
       "    <tr>\n",
       "      <th>0</th>\n",
       "      <td>1</td>\n",
       "      <td>0</td>\n",
       "      <td>3</td>\n",
       "      <td>Braund, Mr. Owen Harris</td>\n",
       "      <td>male</td>\n",
       "      <td>22.0</td>\n",
       "      <td>1</td>\n",
       "      <td>0</td>\n",
       "      <td>A/5 21171</td>\n",
       "      <td>7.2500</td>\n",
       "      <td>NaN</td>\n",
       "      <td>S</td>\n",
       "    </tr>\n",
       "    <tr>\n",
       "      <th>1</th>\n",
       "      <td>2</td>\n",
       "      <td>1</td>\n",
       "      <td>1</td>\n",
       "      <td>Cumings, Mrs. John Bradley (Florence Briggs Th...</td>\n",
       "      <td>female</td>\n",
       "      <td>38.0</td>\n",
       "      <td>1</td>\n",
       "      <td>0</td>\n",
       "      <td>PC 17599</td>\n",
       "      <td>71.2833</td>\n",
       "      <td>C85</td>\n",
       "      <td>C</td>\n",
       "    </tr>\n",
       "    <tr>\n",
       "      <th>2</th>\n",
       "      <td>3</td>\n",
       "      <td>1</td>\n",
       "      <td>3</td>\n",
       "      <td>Heikkinen, Miss. Laina</td>\n",
       "      <td>female</td>\n",
       "      <td>26.0</td>\n",
       "      <td>0</td>\n",
       "      <td>0</td>\n",
       "      <td>STON/O2. 3101282</td>\n",
       "      <td>7.9250</td>\n",
       "      <td>NaN</td>\n",
       "      <td>S</td>\n",
       "    </tr>\n",
       "    <tr>\n",
       "      <th>3</th>\n",
       "      <td>4</td>\n",
       "      <td>1</td>\n",
       "      <td>1</td>\n",
       "      <td>Futrelle, Mrs. Jacques Heath (Lily May Peel)</td>\n",
       "      <td>female</td>\n",
       "      <td>35.0</td>\n",
       "      <td>1</td>\n",
       "      <td>0</td>\n",
       "      <td>113803</td>\n",
       "      <td>53.1000</td>\n",
       "      <td>C123</td>\n",
       "      <td>S</td>\n",
       "    </tr>\n",
       "    <tr>\n",
       "      <th>4</th>\n",
       "      <td>5</td>\n",
       "      <td>0</td>\n",
       "      <td>3</td>\n",
       "      <td>Allen, Mr. William Henry</td>\n",
       "      <td>male</td>\n",
       "      <td>35.0</td>\n",
       "      <td>0</td>\n",
       "      <td>0</td>\n",
       "      <td>373450</td>\n",
       "      <td>8.0500</td>\n",
       "      <td>NaN</td>\n",
       "      <td>S</td>\n",
       "    </tr>\n",
       "  </tbody>\n",
       "</table>\n",
       "</div>"
      ],
      "text/plain": [
       "   PassengerId  Survived  Pclass  \\\n",
       "0            1         0       3   \n",
       "1            2         1       1   \n",
       "2            3         1       3   \n",
       "3            4         1       1   \n",
       "4            5         0       3   \n",
       "\n",
       "                                                Name     Sex   Age  SibSp  \\\n",
       "0                            Braund, Mr. Owen Harris    male  22.0      1   \n",
       "1  Cumings, Mrs. John Bradley (Florence Briggs Th...  female  38.0      1   \n",
       "2                             Heikkinen, Miss. Laina  female  26.0      0   \n",
       "3       Futrelle, Mrs. Jacques Heath (Lily May Peel)  female  35.0      1   \n",
       "4                           Allen, Mr. William Henry    male  35.0      0   \n",
       "\n",
       "   Parch            Ticket     Fare Cabin Embarked  \n",
       "0      0         A/5 21171   7.2500   NaN        S  \n",
       "1      0          PC 17599  71.2833   C85        C  \n",
       "2      0  STON/O2. 3101282   7.9250   NaN        S  \n",
       "3      0            113803  53.1000  C123        S  \n",
       "4      0            373450   8.0500   NaN        S  "
      ]
     },
     "execution_count": 3,
     "metadata": {},
     "output_type": "execute_result"
    }
   ],
   "source": [
    "df_titanic.head()"
   ]
  },
  {
   "cell_type": "code",
   "execution_count": 4,
   "id": "a32f22bb",
   "metadata": {
    "ExecuteTime": {
     "end_time": "2022-07-08T16:08:49.681678Z",
     "start_time": "2022-07-08T16:08:49.667674Z"
    }
   },
   "outputs": [
    {
     "name": "stdout",
     "output_type": "stream",
     "text": [
      "<class 'pandas.core.frame.DataFrame'>\n",
      "RangeIndex: 891 entries, 0 to 890\n",
      "Data columns (total 12 columns):\n",
      " #   Column       Non-Null Count  Dtype  \n",
      "---  ------       --------------  -----  \n",
      " 0   PassengerId  891 non-null    int64  \n",
      " 1   Survived     891 non-null    int64  \n",
      " 2   Pclass       891 non-null    int64  \n",
      " 3   Name         891 non-null    object \n",
      " 4   Sex          891 non-null    object \n",
      " 5   Age          714 non-null    float64\n",
      " 6   SibSp        891 non-null    int64  \n",
      " 7   Parch        891 non-null    int64  \n",
      " 8   Ticket       891 non-null    object \n",
      " 9   Fare         891 non-null    float64\n",
      " 10  Cabin        204 non-null    object \n",
      " 11  Embarked     889 non-null    object \n",
      "dtypes: float64(2), int64(5), object(5)\n",
      "memory usage: 83.7+ KB\n"
     ]
    }
   ],
   "source": [
    "df_titanic.info()"
   ]
  },
  {
   "cell_type": "markdown",
   "id": "41bef1d7",
   "metadata": {},
   "source": [
    "Couple of null values in Age"
   ]
  },
  {
   "cell_type": "code",
   "execution_count": 5,
   "id": "4e8e59dc",
   "metadata": {
    "ExecuteTime": {
     "end_time": "2022-07-08T16:08:49.713685Z",
     "start_time": "2022-07-08T16:08:49.683678Z"
    }
   },
   "outputs": [
    {
     "data": {
      "text/html": [
       "<div>\n",
       "<style scoped>\n",
       "    .dataframe tbody tr th:only-of-type {\n",
       "        vertical-align: middle;\n",
       "    }\n",
       "\n",
       "    .dataframe tbody tr th {\n",
       "        vertical-align: top;\n",
       "    }\n",
       "\n",
       "    .dataframe thead th {\n",
       "        text-align: right;\n",
       "    }\n",
       "</style>\n",
       "<table border=\"1\" class=\"dataframe\">\n",
       "  <thead>\n",
       "    <tr style=\"text-align: right;\">\n",
       "      <th></th>\n",
       "      <th>PassengerId</th>\n",
       "      <th>Survived</th>\n",
       "      <th>Pclass</th>\n",
       "      <th>Age</th>\n",
       "      <th>SibSp</th>\n",
       "      <th>Parch</th>\n",
       "      <th>Fare</th>\n",
       "    </tr>\n",
       "  </thead>\n",
       "  <tbody>\n",
       "    <tr>\n",
       "      <th>count</th>\n",
       "      <td>891.000000</td>\n",
       "      <td>891.000000</td>\n",
       "      <td>891.000000</td>\n",
       "      <td>714.000000</td>\n",
       "      <td>891.000000</td>\n",
       "      <td>891.000000</td>\n",
       "      <td>891.000000</td>\n",
       "    </tr>\n",
       "    <tr>\n",
       "      <th>mean</th>\n",
       "      <td>446.000000</td>\n",
       "      <td>0.383838</td>\n",
       "      <td>2.308642</td>\n",
       "      <td>29.699118</td>\n",
       "      <td>0.523008</td>\n",
       "      <td>0.381594</td>\n",
       "      <td>32.204208</td>\n",
       "    </tr>\n",
       "    <tr>\n",
       "      <th>std</th>\n",
       "      <td>257.353842</td>\n",
       "      <td>0.486592</td>\n",
       "      <td>0.836071</td>\n",
       "      <td>14.526497</td>\n",
       "      <td>1.102743</td>\n",
       "      <td>0.806057</td>\n",
       "      <td>49.693429</td>\n",
       "    </tr>\n",
       "    <tr>\n",
       "      <th>min</th>\n",
       "      <td>1.000000</td>\n",
       "      <td>0.000000</td>\n",
       "      <td>1.000000</td>\n",
       "      <td>0.420000</td>\n",
       "      <td>0.000000</td>\n",
       "      <td>0.000000</td>\n",
       "      <td>0.000000</td>\n",
       "    </tr>\n",
       "    <tr>\n",
       "      <th>25%</th>\n",
       "      <td>223.500000</td>\n",
       "      <td>0.000000</td>\n",
       "      <td>2.000000</td>\n",
       "      <td>20.125000</td>\n",
       "      <td>0.000000</td>\n",
       "      <td>0.000000</td>\n",
       "      <td>7.910400</td>\n",
       "    </tr>\n",
       "    <tr>\n",
       "      <th>50%</th>\n",
       "      <td>446.000000</td>\n",
       "      <td>0.000000</td>\n",
       "      <td>3.000000</td>\n",
       "      <td>28.000000</td>\n",
       "      <td>0.000000</td>\n",
       "      <td>0.000000</td>\n",
       "      <td>14.454200</td>\n",
       "    </tr>\n",
       "    <tr>\n",
       "      <th>75%</th>\n",
       "      <td>668.500000</td>\n",
       "      <td>1.000000</td>\n",
       "      <td>3.000000</td>\n",
       "      <td>38.000000</td>\n",
       "      <td>1.000000</td>\n",
       "      <td>0.000000</td>\n",
       "      <td>31.000000</td>\n",
       "    </tr>\n",
       "    <tr>\n",
       "      <th>max</th>\n",
       "      <td>891.000000</td>\n",
       "      <td>1.000000</td>\n",
       "      <td>3.000000</td>\n",
       "      <td>80.000000</td>\n",
       "      <td>8.000000</td>\n",
       "      <td>6.000000</td>\n",
       "      <td>512.329200</td>\n",
       "    </tr>\n",
       "  </tbody>\n",
       "</table>\n",
       "</div>"
      ],
      "text/plain": [
       "       PassengerId    Survived      Pclass         Age       SibSp  \\\n",
       "count   891.000000  891.000000  891.000000  714.000000  891.000000   \n",
       "mean    446.000000    0.383838    2.308642   29.699118    0.523008   \n",
       "std     257.353842    0.486592    0.836071   14.526497    1.102743   \n",
       "min       1.000000    0.000000    1.000000    0.420000    0.000000   \n",
       "25%     223.500000    0.000000    2.000000   20.125000    0.000000   \n",
       "50%     446.000000    0.000000    3.000000   28.000000    0.000000   \n",
       "75%     668.500000    1.000000    3.000000   38.000000    1.000000   \n",
       "max     891.000000    1.000000    3.000000   80.000000    8.000000   \n",
       "\n",
       "            Parch        Fare  \n",
       "count  891.000000  891.000000  \n",
       "mean     0.381594   32.204208  \n",
       "std      0.806057   49.693429  \n",
       "min      0.000000    0.000000  \n",
       "25%      0.000000    7.910400  \n",
       "50%      0.000000   14.454200  \n",
       "75%      0.000000   31.000000  \n",
       "max      6.000000  512.329200  "
      ]
     },
     "execution_count": 5,
     "metadata": {},
     "output_type": "execute_result"
    }
   ],
   "source": [
    "df_titanic.describe()"
   ]
  },
  {
   "cell_type": "code",
   "execution_count": 6,
   "id": "e2ec2930",
   "metadata": {
    "ExecuteTime": {
     "end_time": "2022-07-08T16:08:49.729688Z",
     "start_time": "2022-07-08T16:08:49.714684Z"
    }
   },
   "outputs": [
    {
     "data": {
      "text/plain": [
       "male      0.647587\n",
       "female    0.352413\n",
       "Name: Sex, dtype: float64"
      ]
     },
     "execution_count": 6,
     "metadata": {},
     "output_type": "execute_result"
    }
   ],
   "source": [
    "df_titanic.Sex.value_counts(normalize=True)"
   ]
  },
  {
   "cell_type": "code",
   "execution_count": null,
   "id": "7eaa83f5",
   "metadata": {},
   "outputs": [],
   "source": []
  },
  {
   "cell_type": "code",
   "execution_count": 7,
   "id": "57a97204",
   "metadata": {
    "ExecuteTime": {
     "end_time": "2022-07-08T16:08:51.487082Z",
     "start_time": "2022-07-08T16:08:49.730688Z"
    },
    "scrolled": false
   },
   "outputs": [
    {
     "name": "stdout",
     "output_type": "stream",
     "text": [
      "PassengerId\n"
     ]
    },
    {
     "data": {
      "text/html": [
       "<style type=\"text/css\">\n",
       "</style>\n",
       "<table id=\"T_d5a5e\">\n",
       "  <caption>Table Info</caption>\n",
       "  <thead>\n",
       "    <tr>\n",
       "      <th class=\"blank level0\" >&nbsp;</th>\n",
       "      <th id=\"T_d5a5e_level0_col0\" class=\"col_heading level0 col0\" >Number</th>\n",
       "      <th id=\"T_d5a5e_level0_col1\" class=\"col_heading level0 col1\" >Percentage</th>\n",
       "    </tr>\n",
       "    <tr>\n",
       "      <th class=\"index_name level0\" ></th>\n",
       "      <th class=\"blank col0\" >&nbsp;</th>\n",
       "      <th class=\"blank col1\" >&nbsp;</th>\n",
       "    </tr>\n",
       "  </thead>\n",
       "  <tbody>\n",
       "    <tr>\n",
       "      <th id=\"T_d5a5e_level0_row0\" class=\"row_heading level0 row0\" >Zeroes</th>\n",
       "      <td id=\"T_d5a5e_row0_col0\" class=\"data row0 col0\" >0</td>\n",
       "      <td id=\"T_d5a5e_row0_col1\" class=\"data row0 col1\" >0.00 %</td>\n",
       "    </tr>\n",
       "    <tr>\n",
       "      <th id=\"T_d5a5e_level0_row1\" class=\"row_heading level0 row1\" >Missing</th>\n",
       "      <td id=\"T_d5a5e_row1_col0\" class=\"data row1 col0\" >0</td>\n",
       "      <td id=\"T_d5a5e_row1_col1\" class=\"data row1 col1\" >0.00 %</td>\n",
       "    </tr>\n",
       "    <tr>\n",
       "      <th id=\"T_d5a5e_level0_row2\" class=\"row_heading level0 row2\" >Unknown</th>\n",
       "      <td id=\"T_d5a5e_row2_col0\" class=\"data row2 col0\" >0</td>\n",
       "      <td id=\"T_d5a5e_row2_col1\" class=\"data row2 col1\" >0.00 %</td>\n",
       "    </tr>\n",
       "    <tr>\n",
       "      <th id=\"T_d5a5e_level0_row3\" class=\"row_heading level0 row3\" >Uniques</th>\n",
       "      <td id=\"T_d5a5e_row3_col0\" class=\"data row3 col0\" >891</td>\n",
       "      <td id=\"T_d5a5e_row3_col1\" class=\"data row3 col1\" >100.00 %</td>\n",
       "    </tr>\n",
       "    <tr>\n",
       "      <th id=\"T_d5a5e_level0_row4\" class=\"row_heading level0 row4\" >Mean</th>\n",
       "      <td id=\"T_d5a5e_row4_col0\" class=\"data row4 col0\" >446.00</td>\n",
       "      <td id=\"T_d5a5e_row4_col1\" class=\"data row4 col1\" >-</td>\n",
       "    </tr>\n",
       "    <tr>\n",
       "      <th id=\"T_d5a5e_level0_row5\" class=\"row_heading level0 row5\" >Median</th>\n",
       "      <td id=\"T_d5a5e_row5_col0\" class=\"data row5 col0\" >446.00</td>\n",
       "      <td id=\"T_d5a5e_row5_col1\" class=\"data row5 col1\" >-</td>\n",
       "    </tr>\n",
       "  </tbody>\n",
       "</table>\n"
      ],
      "text/plain": [
       "<pandas.io.formats.style.Styler at 0x1739d646dc0>"
      ]
     },
     "metadata": {},
     "output_type": "display_data"
    },
    {
     "data": {
      "text/html": [
       "<style type=\"text/css\">\n",
       "</style>\n",
       "<table id=\"T_a930a\">\n",
       "  <caption>Top 10 Value Count Info</caption>\n",
       "  <thead>\n",
       "    <tr>\n",
       "      <th class=\"blank level0\" >&nbsp;</th>\n",
       "      <th id=\"T_a930a_level0_col0\" class=\"col_heading level0 col0\" >Value Count</th>\n",
       "      <th id=\"T_a930a_level0_col1\" class=\"col_heading level0 col1\" >% Value Count</th>\n",
       "    </tr>\n",
       "  </thead>\n",
       "  <tbody>\n",
       "    <tr>\n",
       "      <th id=\"T_a930a_level0_row0\" class=\"row_heading level0 row0\" >1</th>\n",
       "      <td id=\"T_a930a_row0_col0\" class=\"data row0 col0\" >1</td>\n",
       "      <td id=\"T_a930a_row0_col1\" class=\"data row0 col1\" >0.112233</td>\n",
       "    </tr>\n",
       "    <tr>\n",
       "      <th id=\"T_a930a_level0_row1\" class=\"row_heading level0 row1\" >599</th>\n",
       "      <td id=\"T_a930a_row1_col0\" class=\"data row1 col0\" >1</td>\n",
       "      <td id=\"T_a930a_row1_col1\" class=\"data row1 col1\" >0.112233</td>\n",
       "    </tr>\n",
       "    <tr>\n",
       "      <th id=\"T_a930a_level0_row2\" class=\"row_heading level0 row2\" >588</th>\n",
       "      <td id=\"T_a930a_row2_col0\" class=\"data row2 col0\" >1</td>\n",
       "      <td id=\"T_a930a_row2_col1\" class=\"data row2 col1\" >0.112233</td>\n",
       "    </tr>\n",
       "    <tr>\n",
       "      <th id=\"T_a930a_level0_row3\" class=\"row_heading level0 row3\" >589</th>\n",
       "      <td id=\"T_a930a_row3_col0\" class=\"data row3 col0\" >1</td>\n",
       "      <td id=\"T_a930a_row3_col1\" class=\"data row3 col1\" >0.112233</td>\n",
       "    </tr>\n",
       "    <tr>\n",
       "      <th id=\"T_a930a_level0_row4\" class=\"row_heading level0 row4\" >590</th>\n",
       "      <td id=\"T_a930a_row4_col0\" class=\"data row4 col0\" >1</td>\n",
       "      <td id=\"T_a930a_row4_col1\" class=\"data row4 col1\" >0.112233</td>\n",
       "    </tr>\n",
       "    <tr>\n",
       "      <th id=\"T_a930a_level0_row5\" class=\"row_heading level0 row5\" >591</th>\n",
       "      <td id=\"T_a930a_row5_col0\" class=\"data row5 col0\" >1</td>\n",
       "      <td id=\"T_a930a_row5_col1\" class=\"data row5 col1\" >0.112233</td>\n",
       "    </tr>\n",
       "    <tr>\n",
       "      <th id=\"T_a930a_level0_row6\" class=\"row_heading level0 row6\" >592</th>\n",
       "      <td id=\"T_a930a_row6_col0\" class=\"data row6 col0\" >1</td>\n",
       "      <td id=\"T_a930a_row6_col1\" class=\"data row6 col1\" >0.112233</td>\n",
       "    </tr>\n",
       "    <tr>\n",
       "      <th id=\"T_a930a_level0_row7\" class=\"row_heading level0 row7\" >593</th>\n",
       "      <td id=\"T_a930a_row7_col0\" class=\"data row7 col0\" >1</td>\n",
       "      <td id=\"T_a930a_row7_col1\" class=\"data row7 col1\" >0.112233</td>\n",
       "    </tr>\n",
       "    <tr>\n",
       "      <th id=\"T_a930a_level0_row8\" class=\"row_heading level0 row8\" >594</th>\n",
       "      <td id=\"T_a930a_row8_col0\" class=\"data row8 col0\" >1</td>\n",
       "      <td id=\"T_a930a_row8_col1\" class=\"data row8 col1\" >0.112233</td>\n",
       "    </tr>\n",
       "    <tr>\n",
       "      <th id=\"T_a930a_level0_row9\" class=\"row_heading level0 row9\" >595</th>\n",
       "      <td id=\"T_a930a_row9_col0\" class=\"data row9 col0\" >1</td>\n",
       "      <td id=\"T_a930a_row9_col1\" class=\"data row9 col1\" >0.112233</td>\n",
       "    </tr>\n",
       "  </tbody>\n",
       "</table>\n"
      ],
      "text/plain": [
       "<pandas.io.formats.style.Styler at 0x173a2d372b0>"
      ]
     },
     "metadata": {},
     "output_type": "display_data"
    },
    {
     "data": {
      "text/plain": [
       "None"
      ]
     },
     "metadata": {},
     "output_type": "display_data"
    },
    {
     "name": "stdout",
     "output_type": "stream",
     "text": [
      "Survived\n"
     ]
    },
    {
     "data": {
      "text/html": [
       "<style type=\"text/css\">\n",
       "</style>\n",
       "<table id=\"T_3a3f9\">\n",
       "  <caption>Table Info</caption>\n",
       "  <thead>\n",
       "    <tr>\n",
       "      <th class=\"blank level0\" >&nbsp;</th>\n",
       "      <th id=\"T_3a3f9_level0_col0\" class=\"col_heading level0 col0\" >Number</th>\n",
       "      <th id=\"T_3a3f9_level0_col1\" class=\"col_heading level0 col1\" >Percentage</th>\n",
       "    </tr>\n",
       "    <tr>\n",
       "      <th class=\"index_name level0\" ></th>\n",
       "      <th class=\"blank col0\" >&nbsp;</th>\n",
       "      <th class=\"blank col1\" >&nbsp;</th>\n",
       "    </tr>\n",
       "  </thead>\n",
       "  <tbody>\n",
       "    <tr>\n",
       "      <th id=\"T_3a3f9_level0_row0\" class=\"row_heading level0 row0\" >Zeroes</th>\n",
       "      <td id=\"T_3a3f9_row0_col0\" class=\"data row0 col0\" >549</td>\n",
       "      <td id=\"T_3a3f9_row0_col1\" class=\"data row0 col1\" >61.62 %</td>\n",
       "    </tr>\n",
       "    <tr>\n",
       "      <th id=\"T_3a3f9_level0_row1\" class=\"row_heading level0 row1\" >Missing</th>\n",
       "      <td id=\"T_3a3f9_row1_col0\" class=\"data row1 col0\" >0</td>\n",
       "      <td id=\"T_3a3f9_row1_col1\" class=\"data row1 col1\" >0.00 %</td>\n",
       "    </tr>\n",
       "    <tr>\n",
       "      <th id=\"T_3a3f9_level0_row2\" class=\"row_heading level0 row2\" >Unknown</th>\n",
       "      <td id=\"T_3a3f9_row2_col0\" class=\"data row2 col0\" >0</td>\n",
       "      <td id=\"T_3a3f9_row2_col1\" class=\"data row2 col1\" >0.00 %</td>\n",
       "    </tr>\n",
       "    <tr>\n",
       "      <th id=\"T_3a3f9_level0_row3\" class=\"row_heading level0 row3\" >Uniques</th>\n",
       "      <td id=\"T_3a3f9_row3_col0\" class=\"data row3 col0\" >2</td>\n",
       "      <td id=\"T_3a3f9_row3_col1\" class=\"data row3 col1\" >0.22 %</td>\n",
       "    </tr>\n",
       "    <tr>\n",
       "      <th id=\"T_3a3f9_level0_row4\" class=\"row_heading level0 row4\" >Mean</th>\n",
       "      <td id=\"T_3a3f9_row4_col0\" class=\"data row4 col0\" >0.38</td>\n",
       "      <td id=\"T_3a3f9_row4_col1\" class=\"data row4 col1\" >-</td>\n",
       "    </tr>\n",
       "    <tr>\n",
       "      <th id=\"T_3a3f9_level0_row5\" class=\"row_heading level0 row5\" >Median</th>\n",
       "      <td id=\"T_3a3f9_row5_col0\" class=\"data row5 col0\" >0.00</td>\n",
       "      <td id=\"T_3a3f9_row5_col1\" class=\"data row5 col1\" >-</td>\n",
       "    </tr>\n",
       "  </tbody>\n",
       "</table>\n"
      ],
      "text/plain": [
       "<pandas.io.formats.style.Styler at 0x1739d646dc0>"
      ]
     },
     "metadata": {},
     "output_type": "display_data"
    },
    {
     "data": {
      "text/html": [
       "<style type=\"text/css\">\n",
       "</style>\n",
       "<table id=\"T_9acaa\">\n",
       "  <caption>Top 10 Value Count Info</caption>\n",
       "  <thead>\n",
       "    <tr>\n",
       "      <th class=\"blank level0\" >&nbsp;</th>\n",
       "      <th id=\"T_9acaa_level0_col0\" class=\"col_heading level0 col0\" >Value Count</th>\n",
       "      <th id=\"T_9acaa_level0_col1\" class=\"col_heading level0 col1\" >% Value Count</th>\n",
       "    </tr>\n",
       "  </thead>\n",
       "  <tbody>\n",
       "    <tr>\n",
       "      <th id=\"T_9acaa_level0_row0\" class=\"row_heading level0 row0\" >0</th>\n",
       "      <td id=\"T_9acaa_row0_col0\" class=\"data row0 col0\" >549</td>\n",
       "      <td id=\"T_9acaa_row0_col1\" class=\"data row0 col1\" >61.616162</td>\n",
       "    </tr>\n",
       "    <tr>\n",
       "      <th id=\"T_9acaa_level0_row1\" class=\"row_heading level0 row1\" >1</th>\n",
       "      <td id=\"T_9acaa_row1_col0\" class=\"data row1 col0\" >342</td>\n",
       "      <td id=\"T_9acaa_row1_col1\" class=\"data row1 col1\" >38.383838</td>\n",
       "    </tr>\n",
       "  </tbody>\n",
       "</table>\n"
      ],
      "text/plain": [
       "<pandas.io.formats.style.Styler at 0x173a2d81400>"
      ]
     },
     "metadata": {},
     "output_type": "display_data"
    },
    {
     "data": {
      "text/plain": [
       "None"
      ]
     },
     "metadata": {},
     "output_type": "display_data"
    },
    {
     "name": "stdout",
     "output_type": "stream",
     "text": [
      "Pclass\n"
     ]
    },
    {
     "data": {
      "text/html": [
       "<style type=\"text/css\">\n",
       "</style>\n",
       "<table id=\"T_4f95b\">\n",
       "  <caption>Table Info</caption>\n",
       "  <thead>\n",
       "    <tr>\n",
       "      <th class=\"blank level0\" >&nbsp;</th>\n",
       "      <th id=\"T_4f95b_level0_col0\" class=\"col_heading level0 col0\" >Number</th>\n",
       "      <th id=\"T_4f95b_level0_col1\" class=\"col_heading level0 col1\" >Percentage</th>\n",
       "    </tr>\n",
       "    <tr>\n",
       "      <th class=\"index_name level0\" ></th>\n",
       "      <th class=\"blank col0\" >&nbsp;</th>\n",
       "      <th class=\"blank col1\" >&nbsp;</th>\n",
       "    </tr>\n",
       "  </thead>\n",
       "  <tbody>\n",
       "    <tr>\n",
       "      <th id=\"T_4f95b_level0_row0\" class=\"row_heading level0 row0\" >Zeroes</th>\n",
       "      <td id=\"T_4f95b_row0_col0\" class=\"data row0 col0\" >0</td>\n",
       "      <td id=\"T_4f95b_row0_col1\" class=\"data row0 col1\" >0.00 %</td>\n",
       "    </tr>\n",
       "    <tr>\n",
       "      <th id=\"T_4f95b_level0_row1\" class=\"row_heading level0 row1\" >Missing</th>\n",
       "      <td id=\"T_4f95b_row1_col0\" class=\"data row1 col0\" >0</td>\n",
       "      <td id=\"T_4f95b_row1_col1\" class=\"data row1 col1\" >0.00 %</td>\n",
       "    </tr>\n",
       "    <tr>\n",
       "      <th id=\"T_4f95b_level0_row2\" class=\"row_heading level0 row2\" >Unknown</th>\n",
       "      <td id=\"T_4f95b_row2_col0\" class=\"data row2 col0\" >0</td>\n",
       "      <td id=\"T_4f95b_row2_col1\" class=\"data row2 col1\" >0.00 %</td>\n",
       "    </tr>\n",
       "    <tr>\n",
       "      <th id=\"T_4f95b_level0_row3\" class=\"row_heading level0 row3\" >Uniques</th>\n",
       "      <td id=\"T_4f95b_row3_col0\" class=\"data row3 col0\" >3</td>\n",
       "      <td id=\"T_4f95b_row3_col1\" class=\"data row3 col1\" >0.34 %</td>\n",
       "    </tr>\n",
       "    <tr>\n",
       "      <th id=\"T_4f95b_level0_row4\" class=\"row_heading level0 row4\" >Mean</th>\n",
       "      <td id=\"T_4f95b_row4_col0\" class=\"data row4 col0\" >2.31</td>\n",
       "      <td id=\"T_4f95b_row4_col1\" class=\"data row4 col1\" >-</td>\n",
       "    </tr>\n",
       "    <tr>\n",
       "      <th id=\"T_4f95b_level0_row5\" class=\"row_heading level0 row5\" >Median</th>\n",
       "      <td id=\"T_4f95b_row5_col0\" class=\"data row5 col0\" >3.00</td>\n",
       "      <td id=\"T_4f95b_row5_col1\" class=\"data row5 col1\" >-</td>\n",
       "    </tr>\n",
       "  </tbody>\n",
       "</table>\n"
      ],
      "text/plain": [
       "<pandas.io.formats.style.Styler at 0x1739d6936d0>"
      ]
     },
     "metadata": {},
     "output_type": "display_data"
    },
    {
     "data": {
      "text/html": [
       "<style type=\"text/css\">\n",
       "</style>\n",
       "<table id=\"T_2c429\">\n",
       "  <caption>Top 10 Value Count Info</caption>\n",
       "  <thead>\n",
       "    <tr>\n",
       "      <th class=\"blank level0\" >&nbsp;</th>\n",
       "      <th id=\"T_2c429_level0_col0\" class=\"col_heading level0 col0\" >Value Count</th>\n",
       "      <th id=\"T_2c429_level0_col1\" class=\"col_heading level0 col1\" >% Value Count</th>\n",
       "    </tr>\n",
       "  </thead>\n",
       "  <tbody>\n",
       "    <tr>\n",
       "      <th id=\"T_2c429_level0_row0\" class=\"row_heading level0 row0\" >3</th>\n",
       "      <td id=\"T_2c429_row0_col0\" class=\"data row0 col0\" >491</td>\n",
       "      <td id=\"T_2c429_row0_col1\" class=\"data row0 col1\" >55.106622</td>\n",
       "    </tr>\n",
       "    <tr>\n",
       "      <th id=\"T_2c429_level0_row1\" class=\"row_heading level0 row1\" >1</th>\n",
       "      <td id=\"T_2c429_row1_col0\" class=\"data row1 col0\" >216</td>\n",
       "      <td id=\"T_2c429_row1_col1\" class=\"data row1 col1\" >24.242424</td>\n",
       "    </tr>\n",
       "    <tr>\n",
       "      <th id=\"T_2c429_level0_row2\" class=\"row_heading level0 row2\" >2</th>\n",
       "      <td id=\"T_2c429_row2_col0\" class=\"data row2 col0\" >184</td>\n",
       "      <td id=\"T_2c429_row2_col1\" class=\"data row2 col1\" >20.650954</td>\n",
       "    </tr>\n",
       "  </tbody>\n",
       "</table>\n"
      ],
      "text/plain": [
       "<pandas.io.formats.style.Styler at 0x173a2fdffa0>"
      ]
     },
     "metadata": {},
     "output_type": "display_data"
    },
    {
     "data": {
      "text/plain": [
       "None"
      ]
     },
     "metadata": {},
     "output_type": "display_data"
    },
    {
     "name": "stdout",
     "output_type": "stream",
     "text": [
      "Name\n"
     ]
    },
    {
     "data": {
      "text/html": [
       "<style type=\"text/css\">\n",
       "</style>\n",
       "<table id=\"T_0b3a5\">\n",
       "  <caption>Table Info</caption>\n",
       "  <thead>\n",
       "    <tr>\n",
       "      <th class=\"blank level0\" >&nbsp;</th>\n",
       "      <th id=\"T_0b3a5_level0_col0\" class=\"col_heading level0 col0\" >Number</th>\n",
       "      <th id=\"T_0b3a5_level0_col1\" class=\"col_heading level0 col1\" >Percentage</th>\n",
       "    </tr>\n",
       "    <tr>\n",
       "      <th class=\"index_name level0\" ></th>\n",
       "      <th class=\"blank col0\" >&nbsp;</th>\n",
       "      <th class=\"blank col1\" >&nbsp;</th>\n",
       "    </tr>\n",
       "  </thead>\n",
       "  <tbody>\n",
       "    <tr>\n",
       "      <th id=\"T_0b3a5_level0_row0\" class=\"row_heading level0 row0\" >Zeroes</th>\n",
       "      <td id=\"T_0b3a5_row0_col0\" class=\"data row0 col0\" >0</td>\n",
       "      <td id=\"T_0b3a5_row0_col1\" class=\"data row0 col1\" >0.00 %</td>\n",
       "    </tr>\n",
       "    <tr>\n",
       "      <th id=\"T_0b3a5_level0_row1\" class=\"row_heading level0 row1\" >Missing</th>\n",
       "      <td id=\"T_0b3a5_row1_col0\" class=\"data row1 col0\" >0</td>\n",
       "      <td id=\"T_0b3a5_row1_col1\" class=\"data row1 col1\" >0.00 %</td>\n",
       "    </tr>\n",
       "    <tr>\n",
       "      <th id=\"T_0b3a5_level0_row2\" class=\"row_heading level0 row2\" >Unknown</th>\n",
       "      <td id=\"T_0b3a5_row2_col0\" class=\"data row2 col0\" >0</td>\n",
       "      <td id=\"T_0b3a5_row2_col1\" class=\"data row2 col1\" >0.00 %</td>\n",
       "    </tr>\n",
       "    <tr>\n",
       "      <th id=\"T_0b3a5_level0_row3\" class=\"row_heading level0 row3\" >Uniques</th>\n",
       "      <td id=\"T_0b3a5_row3_col0\" class=\"data row3 col0\" >891</td>\n",
       "      <td id=\"T_0b3a5_row3_col1\" class=\"data row3 col1\" >100.00 %</td>\n",
       "    </tr>\n",
       "    <tr>\n",
       "      <th id=\"T_0b3a5_level0_row4\" class=\"row_heading level0 row4\" >Mean</th>\n",
       "      <td id=\"T_0b3a5_row4_col0\" class=\"data row4 col0\" >0.00</td>\n",
       "      <td id=\"T_0b3a5_row4_col1\" class=\"data row4 col1\" >-</td>\n",
       "    </tr>\n",
       "    <tr>\n",
       "      <th id=\"T_0b3a5_level0_row5\" class=\"row_heading level0 row5\" >Median</th>\n",
       "      <td id=\"T_0b3a5_row5_col0\" class=\"data row5 col0\" >0.00</td>\n",
       "      <td id=\"T_0b3a5_row5_col1\" class=\"data row5 col1\" >-</td>\n",
       "    </tr>\n",
       "  </tbody>\n",
       "</table>\n"
      ],
      "text/plain": [
       "<pandas.io.formats.style.Styler at 0x173a2fc1970>"
      ]
     },
     "metadata": {},
     "output_type": "display_data"
    },
    {
     "data": {
      "text/html": [
       "<style type=\"text/css\">\n",
       "</style>\n",
       "<table id=\"T_91088\">\n",
       "  <caption>Top 10 Value Count Info</caption>\n",
       "  <thead>\n",
       "    <tr>\n",
       "      <th class=\"blank level0\" >&nbsp;</th>\n",
       "      <th id=\"T_91088_level0_col0\" class=\"col_heading level0 col0\" >Value Count</th>\n",
       "      <th id=\"T_91088_level0_col1\" class=\"col_heading level0 col1\" >% Value Count</th>\n",
       "    </tr>\n",
       "  </thead>\n",
       "  <tbody>\n",
       "    <tr>\n",
       "      <th id=\"T_91088_level0_row0\" class=\"row_heading level0 row0\" >Braund, Mr. Owen Harris</th>\n",
       "      <td id=\"T_91088_row0_col0\" class=\"data row0 col0\" >1</td>\n",
       "      <td id=\"T_91088_row0_col1\" class=\"data row0 col1\" >0.112233</td>\n",
       "    </tr>\n",
       "    <tr>\n",
       "      <th id=\"T_91088_level0_row1\" class=\"row_heading level0 row1\" >Boulos, Mr. Hanna</th>\n",
       "      <td id=\"T_91088_row1_col0\" class=\"data row1 col0\" >1</td>\n",
       "      <td id=\"T_91088_row1_col1\" class=\"data row1 col1\" >0.112233</td>\n",
       "    </tr>\n",
       "    <tr>\n",
       "      <th id=\"T_91088_level0_row2\" class=\"row_heading level0 row2\" >Frolicher-Stehli, Mr. Maxmillian</th>\n",
       "      <td id=\"T_91088_row2_col0\" class=\"data row2 col0\" >1</td>\n",
       "      <td id=\"T_91088_row2_col1\" class=\"data row2 col1\" >0.112233</td>\n",
       "    </tr>\n",
       "    <tr>\n",
       "      <th id=\"T_91088_level0_row3\" class=\"row_heading level0 row3\" >Gilinski, Mr. Eliezer</th>\n",
       "      <td id=\"T_91088_row3_col0\" class=\"data row3 col0\" >1</td>\n",
       "      <td id=\"T_91088_row3_col1\" class=\"data row3 col1\" >0.112233</td>\n",
       "    </tr>\n",
       "    <tr>\n",
       "      <th id=\"T_91088_level0_row4\" class=\"row_heading level0 row4\" >Murdlin, Mr. Joseph</th>\n",
       "      <td id=\"T_91088_row4_col0\" class=\"data row4 col0\" >1</td>\n",
       "      <td id=\"T_91088_row4_col1\" class=\"data row4 col1\" >0.112233</td>\n",
       "    </tr>\n",
       "    <tr>\n",
       "      <th id=\"T_91088_level0_row5\" class=\"row_heading level0 row5\" >Rintamaki, Mr. Matti</th>\n",
       "      <td id=\"T_91088_row5_col0\" class=\"data row5 col0\" >1</td>\n",
       "      <td id=\"T_91088_row5_col1\" class=\"data row5 col1\" >0.112233</td>\n",
       "    </tr>\n",
       "    <tr>\n",
       "      <th id=\"T_91088_level0_row6\" class=\"row_heading level0 row6\" >Stephenson, Mrs. Walter Bertram (Martha Eustis)</th>\n",
       "      <td id=\"T_91088_row6_col0\" class=\"data row6 col0\" >1</td>\n",
       "      <td id=\"T_91088_row6_col1\" class=\"data row6 col1\" >0.112233</td>\n",
       "    </tr>\n",
       "    <tr>\n",
       "      <th id=\"T_91088_level0_row7\" class=\"row_heading level0 row7\" >Elsbury, Mr. William James</th>\n",
       "      <td id=\"T_91088_row7_col0\" class=\"data row7 col0\" >1</td>\n",
       "      <td id=\"T_91088_row7_col1\" class=\"data row7 col1\" >0.112233</td>\n",
       "    </tr>\n",
       "    <tr>\n",
       "      <th id=\"T_91088_level0_row8\" class=\"row_heading level0 row8\" >Bourke, Miss. Mary</th>\n",
       "      <td id=\"T_91088_row8_col0\" class=\"data row8 col0\" >1</td>\n",
       "      <td id=\"T_91088_row8_col1\" class=\"data row8 col1\" >0.112233</td>\n",
       "    </tr>\n",
       "    <tr>\n",
       "      <th id=\"T_91088_level0_row9\" class=\"row_heading level0 row9\" >Chapman, Mr. John Henry</th>\n",
       "      <td id=\"T_91088_row9_col0\" class=\"data row9 col0\" >1</td>\n",
       "      <td id=\"T_91088_row9_col1\" class=\"data row9 col1\" >0.112233</td>\n",
       "    </tr>\n",
       "  </tbody>\n",
       "</table>\n"
      ],
      "text/plain": [
       "<pandas.io.formats.style.Styler at 0x173a2d69820>"
      ]
     },
     "metadata": {},
     "output_type": "display_data"
    },
    {
     "data": {
      "text/plain": [
       "None"
      ]
     },
     "metadata": {},
     "output_type": "display_data"
    },
    {
     "name": "stdout",
     "output_type": "stream",
     "text": [
      "Sex\n"
     ]
    },
    {
     "data": {
      "text/html": [
       "<style type=\"text/css\">\n",
       "</style>\n",
       "<table id=\"T_dbfa8\">\n",
       "  <caption>Table Info</caption>\n",
       "  <thead>\n",
       "    <tr>\n",
       "      <th class=\"blank level0\" >&nbsp;</th>\n",
       "      <th id=\"T_dbfa8_level0_col0\" class=\"col_heading level0 col0\" >Number</th>\n",
       "      <th id=\"T_dbfa8_level0_col1\" class=\"col_heading level0 col1\" >Percentage</th>\n",
       "    </tr>\n",
       "    <tr>\n",
       "      <th class=\"index_name level0\" ></th>\n",
       "      <th class=\"blank col0\" >&nbsp;</th>\n",
       "      <th class=\"blank col1\" >&nbsp;</th>\n",
       "    </tr>\n",
       "  </thead>\n",
       "  <tbody>\n",
       "    <tr>\n",
       "      <th id=\"T_dbfa8_level0_row0\" class=\"row_heading level0 row0\" >Zeroes</th>\n",
       "      <td id=\"T_dbfa8_row0_col0\" class=\"data row0 col0\" >0</td>\n",
       "      <td id=\"T_dbfa8_row0_col1\" class=\"data row0 col1\" >0.00 %</td>\n",
       "    </tr>\n",
       "    <tr>\n",
       "      <th id=\"T_dbfa8_level0_row1\" class=\"row_heading level0 row1\" >Missing</th>\n",
       "      <td id=\"T_dbfa8_row1_col0\" class=\"data row1 col0\" >0</td>\n",
       "      <td id=\"T_dbfa8_row1_col1\" class=\"data row1 col1\" >0.00 %</td>\n",
       "    </tr>\n",
       "    <tr>\n",
       "      <th id=\"T_dbfa8_level0_row2\" class=\"row_heading level0 row2\" >Unknown</th>\n",
       "      <td id=\"T_dbfa8_row2_col0\" class=\"data row2 col0\" >0</td>\n",
       "      <td id=\"T_dbfa8_row2_col1\" class=\"data row2 col1\" >0.00 %</td>\n",
       "    </tr>\n",
       "    <tr>\n",
       "      <th id=\"T_dbfa8_level0_row3\" class=\"row_heading level0 row3\" >Uniques</th>\n",
       "      <td id=\"T_dbfa8_row3_col0\" class=\"data row3 col0\" >2</td>\n",
       "      <td id=\"T_dbfa8_row3_col1\" class=\"data row3 col1\" >0.22 %</td>\n",
       "    </tr>\n",
       "    <tr>\n",
       "      <th id=\"T_dbfa8_level0_row4\" class=\"row_heading level0 row4\" >Mean</th>\n",
       "      <td id=\"T_dbfa8_row4_col0\" class=\"data row4 col0\" >0.00</td>\n",
       "      <td id=\"T_dbfa8_row4_col1\" class=\"data row4 col1\" >-</td>\n",
       "    </tr>\n",
       "    <tr>\n",
       "      <th id=\"T_dbfa8_level0_row5\" class=\"row_heading level0 row5\" >Median</th>\n",
       "      <td id=\"T_dbfa8_row5_col0\" class=\"data row5 col0\" >0.00</td>\n",
       "      <td id=\"T_dbfa8_row5_col1\" class=\"data row5 col1\" >-</td>\n",
       "    </tr>\n",
       "  </tbody>\n",
       "</table>\n"
      ],
      "text/plain": [
       "<pandas.io.formats.style.Styler at 0x173a2fed130>"
      ]
     },
     "metadata": {},
     "output_type": "display_data"
    },
    {
     "data": {
      "text/html": [
       "<style type=\"text/css\">\n",
       "</style>\n",
       "<table id=\"T_c6ae9\">\n",
       "  <caption>Top 10 Value Count Info</caption>\n",
       "  <thead>\n",
       "    <tr>\n",
       "      <th class=\"blank level0\" >&nbsp;</th>\n",
       "      <th id=\"T_c6ae9_level0_col0\" class=\"col_heading level0 col0\" >Value Count</th>\n",
       "      <th id=\"T_c6ae9_level0_col1\" class=\"col_heading level0 col1\" >% Value Count</th>\n",
       "    </tr>\n",
       "  </thead>\n",
       "  <tbody>\n",
       "    <tr>\n",
       "      <th id=\"T_c6ae9_level0_row0\" class=\"row_heading level0 row0\" >male</th>\n",
       "      <td id=\"T_c6ae9_row0_col0\" class=\"data row0 col0\" >577</td>\n",
       "      <td id=\"T_c6ae9_row0_col1\" class=\"data row0 col1\" >64.758698</td>\n",
       "    </tr>\n",
       "    <tr>\n",
       "      <th id=\"T_c6ae9_level0_row1\" class=\"row_heading level0 row1\" >female</th>\n",
       "      <td id=\"T_c6ae9_row1_col0\" class=\"data row1 col0\" >314</td>\n",
       "      <td id=\"T_c6ae9_row1_col1\" class=\"data row1 col1\" >35.241302</td>\n",
       "    </tr>\n",
       "  </tbody>\n",
       "</table>\n"
      ],
      "text/plain": [
       "<pandas.io.formats.style.Styler at 0x1739d646dc0>"
      ]
     },
     "metadata": {},
     "output_type": "display_data"
    },
    {
     "data": {
      "text/plain": [
       "None"
      ]
     },
     "metadata": {},
     "output_type": "display_data"
    },
    {
     "name": "stdout",
     "output_type": "stream",
     "text": [
      "Age\n"
     ]
    },
    {
     "data": {
      "text/html": [
       "<style type=\"text/css\">\n",
       "</style>\n",
       "<table id=\"T_aea71\">\n",
       "  <caption>Table Info</caption>\n",
       "  <thead>\n",
       "    <tr>\n",
       "      <th class=\"blank level0\" >&nbsp;</th>\n",
       "      <th id=\"T_aea71_level0_col0\" class=\"col_heading level0 col0\" >Number</th>\n",
       "      <th id=\"T_aea71_level0_col1\" class=\"col_heading level0 col1\" >Percentage</th>\n",
       "    </tr>\n",
       "    <tr>\n",
       "      <th class=\"index_name level0\" ></th>\n",
       "      <th class=\"blank col0\" >&nbsp;</th>\n",
       "      <th class=\"blank col1\" >&nbsp;</th>\n",
       "    </tr>\n",
       "  </thead>\n",
       "  <tbody>\n",
       "    <tr>\n",
       "      <th id=\"T_aea71_level0_row0\" class=\"row_heading level0 row0\" >Zeroes</th>\n",
       "      <td id=\"T_aea71_row0_col0\" class=\"data row0 col0\" >0</td>\n",
       "      <td id=\"T_aea71_row0_col1\" class=\"data row0 col1\" >0.00 %</td>\n",
       "    </tr>\n",
       "    <tr>\n",
       "      <th id=\"T_aea71_level0_row1\" class=\"row_heading level0 row1\" >Missing</th>\n",
       "      <td id=\"T_aea71_row1_col0\" class=\"data row1 col0\" >177</td>\n",
       "      <td id=\"T_aea71_row1_col1\" class=\"data row1 col1\" >19.87 %</td>\n",
       "    </tr>\n",
       "    <tr>\n",
       "      <th id=\"T_aea71_level0_row2\" class=\"row_heading level0 row2\" >Unknown</th>\n",
       "      <td id=\"T_aea71_row2_col0\" class=\"data row2 col0\" >0</td>\n",
       "      <td id=\"T_aea71_row2_col1\" class=\"data row2 col1\" >0.00 %</td>\n",
       "    </tr>\n",
       "    <tr>\n",
       "      <th id=\"T_aea71_level0_row3\" class=\"row_heading level0 row3\" >Uniques</th>\n",
       "      <td id=\"T_aea71_row3_col0\" class=\"data row3 col0\" >89</td>\n",
       "      <td id=\"T_aea71_row3_col1\" class=\"data row3 col1\" >9.99 %</td>\n",
       "    </tr>\n",
       "    <tr>\n",
       "      <th id=\"T_aea71_level0_row4\" class=\"row_heading level0 row4\" >Mean</th>\n",
       "      <td id=\"T_aea71_row4_col0\" class=\"data row4 col0\" >29.70</td>\n",
       "      <td id=\"T_aea71_row4_col1\" class=\"data row4 col1\" >-</td>\n",
       "    </tr>\n",
       "    <tr>\n",
       "      <th id=\"T_aea71_level0_row5\" class=\"row_heading level0 row5\" >Median</th>\n",
       "      <td id=\"T_aea71_row5_col0\" class=\"data row5 col0\" >28.00</td>\n",
       "      <td id=\"T_aea71_row5_col1\" class=\"data row5 col1\" >-</td>\n",
       "    </tr>\n",
       "  </tbody>\n",
       "</table>\n"
      ],
      "text/plain": [
       "<pandas.io.formats.style.Styler at 0x173a31b37f0>"
      ]
     },
     "metadata": {},
     "output_type": "display_data"
    },
    {
     "data": {
      "text/html": [
       "<style type=\"text/css\">\n",
       "</style>\n",
       "<table id=\"T_8808c\">\n",
       "  <caption>Top 10 Value Count Info</caption>\n",
       "  <thead>\n",
       "    <tr>\n",
       "      <th class=\"blank level0\" >&nbsp;</th>\n",
       "      <th id=\"T_8808c_level0_col0\" class=\"col_heading level0 col0\" >Value Count</th>\n",
       "      <th id=\"T_8808c_level0_col1\" class=\"col_heading level0 col1\" >% Value Count</th>\n",
       "    </tr>\n",
       "  </thead>\n",
       "  <tbody>\n",
       "    <tr>\n",
       "      <th id=\"T_8808c_level0_row0\" class=\"row_heading level0 row0\" >24.000000</th>\n",
       "      <td id=\"T_8808c_row0_col0\" class=\"data row0 col0\" >30</td>\n",
       "      <td id=\"T_8808c_row0_col1\" class=\"data row0 col1\" >4.201681</td>\n",
       "    </tr>\n",
       "    <tr>\n",
       "      <th id=\"T_8808c_level0_row1\" class=\"row_heading level0 row1\" >22.000000</th>\n",
       "      <td id=\"T_8808c_row1_col0\" class=\"data row1 col0\" >27</td>\n",
       "      <td id=\"T_8808c_row1_col1\" class=\"data row1 col1\" >3.781513</td>\n",
       "    </tr>\n",
       "    <tr>\n",
       "      <th id=\"T_8808c_level0_row2\" class=\"row_heading level0 row2\" >18.000000</th>\n",
       "      <td id=\"T_8808c_row2_col0\" class=\"data row2 col0\" >26</td>\n",
       "      <td id=\"T_8808c_row2_col1\" class=\"data row2 col1\" >3.641457</td>\n",
       "    </tr>\n",
       "    <tr>\n",
       "      <th id=\"T_8808c_level0_row3\" class=\"row_heading level0 row3\" >19.000000</th>\n",
       "      <td id=\"T_8808c_row3_col0\" class=\"data row3 col0\" >25</td>\n",
       "      <td id=\"T_8808c_row3_col1\" class=\"data row3 col1\" >3.501401</td>\n",
       "    </tr>\n",
       "    <tr>\n",
       "      <th id=\"T_8808c_level0_row4\" class=\"row_heading level0 row4\" >28.000000</th>\n",
       "      <td id=\"T_8808c_row4_col0\" class=\"data row4 col0\" >25</td>\n",
       "      <td id=\"T_8808c_row4_col1\" class=\"data row4 col1\" >3.501401</td>\n",
       "    </tr>\n",
       "    <tr>\n",
       "      <th id=\"T_8808c_level0_row5\" class=\"row_heading level0 row5\" >30.000000</th>\n",
       "      <td id=\"T_8808c_row5_col0\" class=\"data row5 col0\" >25</td>\n",
       "      <td id=\"T_8808c_row5_col1\" class=\"data row5 col1\" >3.501401</td>\n",
       "    </tr>\n",
       "    <tr>\n",
       "      <th id=\"T_8808c_level0_row6\" class=\"row_heading level0 row6\" >21.000000</th>\n",
       "      <td id=\"T_8808c_row6_col0\" class=\"data row6 col0\" >24</td>\n",
       "      <td id=\"T_8808c_row6_col1\" class=\"data row6 col1\" >3.361345</td>\n",
       "    </tr>\n",
       "    <tr>\n",
       "      <th id=\"T_8808c_level0_row7\" class=\"row_heading level0 row7\" >25.000000</th>\n",
       "      <td id=\"T_8808c_row7_col0\" class=\"data row7 col0\" >23</td>\n",
       "      <td id=\"T_8808c_row7_col1\" class=\"data row7 col1\" >3.221289</td>\n",
       "    </tr>\n",
       "    <tr>\n",
       "      <th id=\"T_8808c_level0_row8\" class=\"row_heading level0 row8\" >36.000000</th>\n",
       "      <td id=\"T_8808c_row8_col0\" class=\"data row8 col0\" >22</td>\n",
       "      <td id=\"T_8808c_row8_col1\" class=\"data row8 col1\" >3.081232</td>\n",
       "    </tr>\n",
       "    <tr>\n",
       "      <th id=\"T_8808c_level0_row9\" class=\"row_heading level0 row9\" >29.000000</th>\n",
       "      <td id=\"T_8808c_row9_col0\" class=\"data row9 col0\" >20</td>\n",
       "      <td id=\"T_8808c_row9_col1\" class=\"data row9 col1\" >2.801120</td>\n",
       "    </tr>\n",
       "  </tbody>\n",
       "</table>\n"
      ],
      "text/plain": [
       "<pandas.io.formats.style.Styler at 0x173a328f100>"
      ]
     },
     "metadata": {},
     "output_type": "display_data"
    },
    {
     "data": {
      "text/plain": [
       "None"
      ]
     },
     "metadata": {},
     "output_type": "display_data"
    },
    {
     "name": "stdout",
     "output_type": "stream",
     "text": [
      "SibSp\n"
     ]
    },
    {
     "data": {
      "text/html": [
       "<style type=\"text/css\">\n",
       "</style>\n",
       "<table id=\"T_5a1f4\">\n",
       "  <caption>Table Info</caption>\n",
       "  <thead>\n",
       "    <tr>\n",
       "      <th class=\"blank level0\" >&nbsp;</th>\n",
       "      <th id=\"T_5a1f4_level0_col0\" class=\"col_heading level0 col0\" >Number</th>\n",
       "      <th id=\"T_5a1f4_level0_col1\" class=\"col_heading level0 col1\" >Percentage</th>\n",
       "    </tr>\n",
       "    <tr>\n",
       "      <th class=\"index_name level0\" ></th>\n",
       "      <th class=\"blank col0\" >&nbsp;</th>\n",
       "      <th class=\"blank col1\" >&nbsp;</th>\n",
       "    </tr>\n",
       "  </thead>\n",
       "  <tbody>\n",
       "    <tr>\n",
       "      <th id=\"T_5a1f4_level0_row0\" class=\"row_heading level0 row0\" >Zeroes</th>\n",
       "      <td id=\"T_5a1f4_row0_col0\" class=\"data row0 col0\" >608</td>\n",
       "      <td id=\"T_5a1f4_row0_col1\" class=\"data row0 col1\" >68.24 %</td>\n",
       "    </tr>\n",
       "    <tr>\n",
       "      <th id=\"T_5a1f4_level0_row1\" class=\"row_heading level0 row1\" >Missing</th>\n",
       "      <td id=\"T_5a1f4_row1_col0\" class=\"data row1 col0\" >0</td>\n",
       "      <td id=\"T_5a1f4_row1_col1\" class=\"data row1 col1\" >0.00 %</td>\n",
       "    </tr>\n",
       "    <tr>\n",
       "      <th id=\"T_5a1f4_level0_row2\" class=\"row_heading level0 row2\" >Unknown</th>\n",
       "      <td id=\"T_5a1f4_row2_col0\" class=\"data row2 col0\" >0</td>\n",
       "      <td id=\"T_5a1f4_row2_col1\" class=\"data row2 col1\" >0.00 %</td>\n",
       "    </tr>\n",
       "    <tr>\n",
       "      <th id=\"T_5a1f4_level0_row3\" class=\"row_heading level0 row3\" >Uniques</th>\n",
       "      <td id=\"T_5a1f4_row3_col0\" class=\"data row3 col0\" >7</td>\n",
       "      <td id=\"T_5a1f4_row3_col1\" class=\"data row3 col1\" >0.79 %</td>\n",
       "    </tr>\n",
       "    <tr>\n",
       "      <th id=\"T_5a1f4_level0_row4\" class=\"row_heading level0 row4\" >Mean</th>\n",
       "      <td id=\"T_5a1f4_row4_col0\" class=\"data row4 col0\" >0.52</td>\n",
       "      <td id=\"T_5a1f4_row4_col1\" class=\"data row4 col1\" >-</td>\n",
       "    </tr>\n",
       "    <tr>\n",
       "      <th id=\"T_5a1f4_level0_row5\" class=\"row_heading level0 row5\" >Median</th>\n",
       "      <td id=\"T_5a1f4_row5_col0\" class=\"data row5 col0\" >0.00</td>\n",
       "      <td id=\"T_5a1f4_row5_col1\" class=\"data row5 col1\" >-</td>\n",
       "    </tr>\n",
       "  </tbody>\n",
       "</table>\n"
      ],
      "text/plain": [
       "<pandas.io.formats.style.Styler at 0x1739d646dc0>"
      ]
     },
     "metadata": {},
     "output_type": "display_data"
    },
    {
     "data": {
      "text/html": [
       "<style type=\"text/css\">\n",
       "</style>\n",
       "<table id=\"T_b7eeb\">\n",
       "  <caption>Top 10 Value Count Info</caption>\n",
       "  <thead>\n",
       "    <tr>\n",
       "      <th class=\"blank level0\" >&nbsp;</th>\n",
       "      <th id=\"T_b7eeb_level0_col0\" class=\"col_heading level0 col0\" >Value Count</th>\n",
       "      <th id=\"T_b7eeb_level0_col1\" class=\"col_heading level0 col1\" >% Value Count</th>\n",
       "    </tr>\n",
       "  </thead>\n",
       "  <tbody>\n",
       "    <tr>\n",
       "      <th id=\"T_b7eeb_level0_row0\" class=\"row_heading level0 row0\" >0</th>\n",
       "      <td id=\"T_b7eeb_row0_col0\" class=\"data row0 col0\" >608</td>\n",
       "      <td id=\"T_b7eeb_row0_col1\" class=\"data row0 col1\" >68.237935</td>\n",
       "    </tr>\n",
       "    <tr>\n",
       "      <th id=\"T_b7eeb_level0_row1\" class=\"row_heading level0 row1\" >1</th>\n",
       "      <td id=\"T_b7eeb_row1_col0\" class=\"data row1 col0\" >209</td>\n",
       "      <td id=\"T_b7eeb_row1_col1\" class=\"data row1 col1\" >23.456790</td>\n",
       "    </tr>\n",
       "    <tr>\n",
       "      <th id=\"T_b7eeb_level0_row2\" class=\"row_heading level0 row2\" >2</th>\n",
       "      <td id=\"T_b7eeb_row2_col0\" class=\"data row2 col0\" >28</td>\n",
       "      <td id=\"T_b7eeb_row2_col1\" class=\"data row2 col1\" >3.142536</td>\n",
       "    </tr>\n",
       "    <tr>\n",
       "      <th id=\"T_b7eeb_level0_row3\" class=\"row_heading level0 row3\" >4</th>\n",
       "      <td id=\"T_b7eeb_row3_col0\" class=\"data row3 col0\" >18</td>\n",
       "      <td id=\"T_b7eeb_row3_col1\" class=\"data row3 col1\" >2.020202</td>\n",
       "    </tr>\n",
       "    <tr>\n",
       "      <th id=\"T_b7eeb_level0_row4\" class=\"row_heading level0 row4\" >3</th>\n",
       "      <td id=\"T_b7eeb_row4_col0\" class=\"data row4 col0\" >16</td>\n",
       "      <td id=\"T_b7eeb_row4_col1\" class=\"data row4 col1\" >1.795735</td>\n",
       "    </tr>\n",
       "    <tr>\n",
       "      <th id=\"T_b7eeb_level0_row5\" class=\"row_heading level0 row5\" >8</th>\n",
       "      <td id=\"T_b7eeb_row5_col0\" class=\"data row5 col0\" >7</td>\n",
       "      <td id=\"T_b7eeb_row5_col1\" class=\"data row5 col1\" >0.785634</td>\n",
       "    </tr>\n",
       "    <tr>\n",
       "      <th id=\"T_b7eeb_level0_row6\" class=\"row_heading level0 row6\" >5</th>\n",
       "      <td id=\"T_b7eeb_row6_col0\" class=\"data row6 col0\" >5</td>\n",
       "      <td id=\"T_b7eeb_row6_col1\" class=\"data row6 col1\" >0.561167</td>\n",
       "    </tr>\n",
       "  </tbody>\n",
       "</table>\n"
      ],
      "text/plain": [
       "<pandas.io.formats.style.Styler at 0x173a32ad340>"
      ]
     },
     "metadata": {},
     "output_type": "display_data"
    },
    {
     "data": {
      "text/plain": [
       "None"
      ]
     },
     "metadata": {},
     "output_type": "display_data"
    },
    {
     "name": "stdout",
     "output_type": "stream",
     "text": [
      "Parch\n"
     ]
    },
    {
     "data": {
      "text/html": [
       "<style type=\"text/css\">\n",
       "</style>\n",
       "<table id=\"T_8c45f\">\n",
       "  <caption>Table Info</caption>\n",
       "  <thead>\n",
       "    <tr>\n",
       "      <th class=\"blank level0\" >&nbsp;</th>\n",
       "      <th id=\"T_8c45f_level0_col0\" class=\"col_heading level0 col0\" >Number</th>\n",
       "      <th id=\"T_8c45f_level0_col1\" class=\"col_heading level0 col1\" >Percentage</th>\n",
       "    </tr>\n",
       "    <tr>\n",
       "      <th class=\"index_name level0\" ></th>\n",
       "      <th class=\"blank col0\" >&nbsp;</th>\n",
       "      <th class=\"blank col1\" >&nbsp;</th>\n",
       "    </tr>\n",
       "  </thead>\n",
       "  <tbody>\n",
       "    <tr>\n",
       "      <th id=\"T_8c45f_level0_row0\" class=\"row_heading level0 row0\" >Zeroes</th>\n",
       "      <td id=\"T_8c45f_row0_col0\" class=\"data row0 col0\" >678</td>\n",
       "      <td id=\"T_8c45f_row0_col1\" class=\"data row0 col1\" >76.09 %</td>\n",
       "    </tr>\n",
       "    <tr>\n",
       "      <th id=\"T_8c45f_level0_row1\" class=\"row_heading level0 row1\" >Missing</th>\n",
       "      <td id=\"T_8c45f_row1_col0\" class=\"data row1 col0\" >0</td>\n",
       "      <td id=\"T_8c45f_row1_col1\" class=\"data row1 col1\" >0.00 %</td>\n",
       "    </tr>\n",
       "    <tr>\n",
       "      <th id=\"T_8c45f_level0_row2\" class=\"row_heading level0 row2\" >Unknown</th>\n",
       "      <td id=\"T_8c45f_row2_col0\" class=\"data row2 col0\" >0</td>\n",
       "      <td id=\"T_8c45f_row2_col1\" class=\"data row2 col1\" >0.00 %</td>\n",
       "    </tr>\n",
       "    <tr>\n",
       "      <th id=\"T_8c45f_level0_row3\" class=\"row_heading level0 row3\" >Uniques</th>\n",
       "      <td id=\"T_8c45f_row3_col0\" class=\"data row3 col0\" >7</td>\n",
       "      <td id=\"T_8c45f_row3_col1\" class=\"data row3 col1\" >0.79 %</td>\n",
       "    </tr>\n",
       "    <tr>\n",
       "      <th id=\"T_8c45f_level0_row4\" class=\"row_heading level0 row4\" >Mean</th>\n",
       "      <td id=\"T_8c45f_row4_col0\" class=\"data row4 col0\" >0.38</td>\n",
       "      <td id=\"T_8c45f_row4_col1\" class=\"data row4 col1\" >-</td>\n",
       "    </tr>\n",
       "    <tr>\n",
       "      <th id=\"T_8c45f_level0_row5\" class=\"row_heading level0 row5\" >Median</th>\n",
       "      <td id=\"T_8c45f_row5_col0\" class=\"data row5 col0\" >0.00</td>\n",
       "      <td id=\"T_8c45f_row5_col1\" class=\"data row5 col1\" >-</td>\n",
       "    </tr>\n",
       "  </tbody>\n",
       "</table>\n"
      ],
      "text/plain": [
       "<pandas.io.formats.style.Styler at 0x173a3300a60>"
      ]
     },
     "metadata": {},
     "output_type": "display_data"
    },
    {
     "data": {
      "text/html": [
       "<style type=\"text/css\">\n",
       "</style>\n",
       "<table id=\"T_dc05e\">\n",
       "  <caption>Top 10 Value Count Info</caption>\n",
       "  <thead>\n",
       "    <tr>\n",
       "      <th class=\"blank level0\" >&nbsp;</th>\n",
       "      <th id=\"T_dc05e_level0_col0\" class=\"col_heading level0 col0\" >Value Count</th>\n",
       "      <th id=\"T_dc05e_level0_col1\" class=\"col_heading level0 col1\" >% Value Count</th>\n",
       "    </tr>\n",
       "  </thead>\n",
       "  <tbody>\n",
       "    <tr>\n",
       "      <th id=\"T_dc05e_level0_row0\" class=\"row_heading level0 row0\" >0</th>\n",
       "      <td id=\"T_dc05e_row0_col0\" class=\"data row0 col0\" >678</td>\n",
       "      <td id=\"T_dc05e_row0_col1\" class=\"data row0 col1\" >76.094276</td>\n",
       "    </tr>\n",
       "    <tr>\n",
       "      <th id=\"T_dc05e_level0_row1\" class=\"row_heading level0 row1\" >1</th>\n",
       "      <td id=\"T_dc05e_row1_col0\" class=\"data row1 col0\" >118</td>\n",
       "      <td id=\"T_dc05e_row1_col1\" class=\"data row1 col1\" >13.243547</td>\n",
       "    </tr>\n",
       "    <tr>\n",
       "      <th id=\"T_dc05e_level0_row2\" class=\"row_heading level0 row2\" >2</th>\n",
       "      <td id=\"T_dc05e_row2_col0\" class=\"data row2 col0\" >80</td>\n",
       "      <td id=\"T_dc05e_row2_col1\" class=\"data row2 col1\" >8.978676</td>\n",
       "    </tr>\n",
       "    <tr>\n",
       "      <th id=\"T_dc05e_level0_row3\" class=\"row_heading level0 row3\" >5</th>\n",
       "      <td id=\"T_dc05e_row3_col0\" class=\"data row3 col0\" >5</td>\n",
       "      <td id=\"T_dc05e_row3_col1\" class=\"data row3 col1\" >0.561167</td>\n",
       "    </tr>\n",
       "    <tr>\n",
       "      <th id=\"T_dc05e_level0_row4\" class=\"row_heading level0 row4\" >3</th>\n",
       "      <td id=\"T_dc05e_row4_col0\" class=\"data row4 col0\" >5</td>\n",
       "      <td id=\"T_dc05e_row4_col1\" class=\"data row4 col1\" >0.561167</td>\n",
       "    </tr>\n",
       "    <tr>\n",
       "      <th id=\"T_dc05e_level0_row5\" class=\"row_heading level0 row5\" >4</th>\n",
       "      <td id=\"T_dc05e_row5_col0\" class=\"data row5 col0\" >4</td>\n",
       "      <td id=\"T_dc05e_row5_col1\" class=\"data row5 col1\" >0.448934</td>\n",
       "    </tr>\n",
       "    <tr>\n",
       "      <th id=\"T_dc05e_level0_row6\" class=\"row_heading level0 row6\" >6</th>\n",
       "      <td id=\"T_dc05e_row6_col0\" class=\"data row6 col0\" >1</td>\n",
       "      <td id=\"T_dc05e_row6_col1\" class=\"data row6 col1\" >0.112233</td>\n",
       "    </tr>\n",
       "  </tbody>\n",
       "</table>\n"
      ],
      "text/plain": [
       "<pandas.io.formats.style.Styler at 0x173a3066a90>"
      ]
     },
     "metadata": {},
     "output_type": "display_data"
    },
    {
     "data": {
      "text/plain": [
       "None"
      ]
     },
     "metadata": {},
     "output_type": "display_data"
    },
    {
     "name": "stdout",
     "output_type": "stream",
     "text": [
      "Ticket\n"
     ]
    },
    {
     "data": {
      "text/html": [
       "<style type=\"text/css\">\n",
       "</style>\n",
       "<table id=\"T_ef25e\">\n",
       "  <caption>Table Info</caption>\n",
       "  <thead>\n",
       "    <tr>\n",
       "      <th class=\"blank level0\" >&nbsp;</th>\n",
       "      <th id=\"T_ef25e_level0_col0\" class=\"col_heading level0 col0\" >Number</th>\n",
       "      <th id=\"T_ef25e_level0_col1\" class=\"col_heading level0 col1\" >Percentage</th>\n",
       "    </tr>\n",
       "    <tr>\n",
       "      <th class=\"index_name level0\" ></th>\n",
       "      <th class=\"blank col0\" >&nbsp;</th>\n",
       "      <th class=\"blank col1\" >&nbsp;</th>\n",
       "    </tr>\n",
       "  </thead>\n",
       "  <tbody>\n",
       "    <tr>\n",
       "      <th id=\"T_ef25e_level0_row0\" class=\"row_heading level0 row0\" >Zeroes</th>\n",
       "      <td id=\"T_ef25e_row0_col0\" class=\"data row0 col0\" >0</td>\n",
       "      <td id=\"T_ef25e_row0_col1\" class=\"data row0 col1\" >0.00 %</td>\n",
       "    </tr>\n",
       "    <tr>\n",
       "      <th id=\"T_ef25e_level0_row1\" class=\"row_heading level0 row1\" >Missing</th>\n",
       "      <td id=\"T_ef25e_row1_col0\" class=\"data row1 col0\" >0</td>\n",
       "      <td id=\"T_ef25e_row1_col1\" class=\"data row1 col1\" >0.00 %</td>\n",
       "    </tr>\n",
       "    <tr>\n",
       "      <th id=\"T_ef25e_level0_row2\" class=\"row_heading level0 row2\" >Unknown</th>\n",
       "      <td id=\"T_ef25e_row2_col0\" class=\"data row2 col0\" >0</td>\n",
       "      <td id=\"T_ef25e_row2_col1\" class=\"data row2 col1\" >0.00 %</td>\n",
       "    </tr>\n",
       "    <tr>\n",
       "      <th id=\"T_ef25e_level0_row3\" class=\"row_heading level0 row3\" >Uniques</th>\n",
       "      <td id=\"T_ef25e_row3_col0\" class=\"data row3 col0\" >681</td>\n",
       "      <td id=\"T_ef25e_row3_col1\" class=\"data row3 col1\" >76.43 %</td>\n",
       "    </tr>\n",
       "    <tr>\n",
       "      <th id=\"T_ef25e_level0_row4\" class=\"row_heading level0 row4\" >Mean</th>\n",
       "      <td id=\"T_ef25e_row4_col0\" class=\"data row4 col0\" >0.00</td>\n",
       "      <td id=\"T_ef25e_row4_col1\" class=\"data row4 col1\" >-</td>\n",
       "    </tr>\n",
       "    <tr>\n",
       "      <th id=\"T_ef25e_level0_row5\" class=\"row_heading level0 row5\" >Median</th>\n",
       "      <td id=\"T_ef25e_row5_col0\" class=\"data row5 col0\" >0.00</td>\n",
       "      <td id=\"T_ef25e_row5_col1\" class=\"data row5 col1\" >-</td>\n",
       "    </tr>\n",
       "  </tbody>\n",
       "</table>\n"
      ],
      "text/plain": [
       "<pandas.io.formats.style.Styler at 0x173a30dde50>"
      ]
     },
     "metadata": {},
     "output_type": "display_data"
    },
    {
     "data": {
      "text/html": [
       "<style type=\"text/css\">\n",
       "</style>\n",
       "<table id=\"T_c7cdd\">\n",
       "  <caption>Top 10 Value Count Info</caption>\n",
       "  <thead>\n",
       "    <tr>\n",
       "      <th class=\"blank level0\" >&nbsp;</th>\n",
       "      <th id=\"T_c7cdd_level0_col0\" class=\"col_heading level0 col0\" >Value Count</th>\n",
       "      <th id=\"T_c7cdd_level0_col1\" class=\"col_heading level0 col1\" >% Value Count</th>\n",
       "    </tr>\n",
       "  </thead>\n",
       "  <tbody>\n",
       "    <tr>\n",
       "      <th id=\"T_c7cdd_level0_row0\" class=\"row_heading level0 row0\" >347082</th>\n",
       "      <td id=\"T_c7cdd_row0_col0\" class=\"data row0 col0\" >7</td>\n",
       "      <td id=\"T_c7cdd_row0_col1\" class=\"data row0 col1\" >0.785634</td>\n",
       "    </tr>\n",
       "    <tr>\n",
       "      <th id=\"T_c7cdd_level0_row1\" class=\"row_heading level0 row1\" >CA. 2343</th>\n",
       "      <td id=\"T_c7cdd_row1_col0\" class=\"data row1 col0\" >7</td>\n",
       "      <td id=\"T_c7cdd_row1_col1\" class=\"data row1 col1\" >0.785634</td>\n",
       "    </tr>\n",
       "    <tr>\n",
       "      <th id=\"T_c7cdd_level0_row2\" class=\"row_heading level0 row2\" >1601</th>\n",
       "      <td id=\"T_c7cdd_row2_col0\" class=\"data row2 col0\" >7</td>\n",
       "      <td id=\"T_c7cdd_row2_col1\" class=\"data row2 col1\" >0.785634</td>\n",
       "    </tr>\n",
       "    <tr>\n",
       "      <th id=\"T_c7cdd_level0_row3\" class=\"row_heading level0 row3\" >3101295</th>\n",
       "      <td id=\"T_c7cdd_row3_col0\" class=\"data row3 col0\" >6</td>\n",
       "      <td id=\"T_c7cdd_row3_col1\" class=\"data row3 col1\" >0.673401</td>\n",
       "    </tr>\n",
       "    <tr>\n",
       "      <th id=\"T_c7cdd_level0_row4\" class=\"row_heading level0 row4\" >CA 2144</th>\n",
       "      <td id=\"T_c7cdd_row4_col0\" class=\"data row4 col0\" >6</td>\n",
       "      <td id=\"T_c7cdd_row4_col1\" class=\"data row4 col1\" >0.673401</td>\n",
       "    </tr>\n",
       "    <tr>\n",
       "      <th id=\"T_c7cdd_level0_row5\" class=\"row_heading level0 row5\" >347088</th>\n",
       "      <td id=\"T_c7cdd_row5_col0\" class=\"data row5 col0\" >6</td>\n",
       "      <td id=\"T_c7cdd_row5_col1\" class=\"data row5 col1\" >0.673401</td>\n",
       "    </tr>\n",
       "    <tr>\n",
       "      <th id=\"T_c7cdd_level0_row6\" class=\"row_heading level0 row6\" >S.O.C. 14879</th>\n",
       "      <td id=\"T_c7cdd_row6_col0\" class=\"data row6 col0\" >5</td>\n",
       "      <td id=\"T_c7cdd_row6_col1\" class=\"data row6 col1\" >0.561167</td>\n",
       "    </tr>\n",
       "    <tr>\n",
       "      <th id=\"T_c7cdd_level0_row7\" class=\"row_heading level0 row7\" >382652</th>\n",
       "      <td id=\"T_c7cdd_row7_col0\" class=\"data row7 col0\" >5</td>\n",
       "      <td id=\"T_c7cdd_row7_col1\" class=\"data row7 col1\" >0.561167</td>\n",
       "    </tr>\n",
       "    <tr>\n",
       "      <th id=\"T_c7cdd_level0_row8\" class=\"row_heading level0 row8\" >LINE</th>\n",
       "      <td id=\"T_c7cdd_row8_col0\" class=\"data row8 col0\" >4</td>\n",
       "      <td id=\"T_c7cdd_row8_col1\" class=\"data row8 col1\" >0.448934</td>\n",
       "    </tr>\n",
       "    <tr>\n",
       "      <th id=\"T_c7cdd_level0_row9\" class=\"row_heading level0 row9\" >PC 17757</th>\n",
       "      <td id=\"T_c7cdd_row9_col0\" class=\"data row9 col0\" >4</td>\n",
       "      <td id=\"T_c7cdd_row9_col1\" class=\"data row9 col1\" >0.448934</td>\n",
       "    </tr>\n",
       "  </tbody>\n",
       "</table>\n"
      ],
      "text/plain": [
       "<pandas.io.formats.style.Styler at 0x173a3287f10>"
      ]
     },
     "metadata": {},
     "output_type": "display_data"
    },
    {
     "data": {
      "text/plain": [
       "None"
      ]
     },
     "metadata": {},
     "output_type": "display_data"
    },
    {
     "name": "stdout",
     "output_type": "stream",
     "text": [
      "Fare\n"
     ]
    },
    {
     "data": {
      "text/html": [
       "<style type=\"text/css\">\n",
       "</style>\n",
       "<table id=\"T_18198\">\n",
       "  <caption>Table Info</caption>\n",
       "  <thead>\n",
       "    <tr>\n",
       "      <th class=\"blank level0\" >&nbsp;</th>\n",
       "      <th id=\"T_18198_level0_col0\" class=\"col_heading level0 col0\" >Number</th>\n",
       "      <th id=\"T_18198_level0_col1\" class=\"col_heading level0 col1\" >Percentage</th>\n",
       "    </tr>\n",
       "    <tr>\n",
       "      <th class=\"index_name level0\" ></th>\n",
       "      <th class=\"blank col0\" >&nbsp;</th>\n",
       "      <th class=\"blank col1\" >&nbsp;</th>\n",
       "    </tr>\n",
       "  </thead>\n",
       "  <tbody>\n",
       "    <tr>\n",
       "      <th id=\"T_18198_level0_row0\" class=\"row_heading level0 row0\" >Zeroes</th>\n",
       "      <td id=\"T_18198_row0_col0\" class=\"data row0 col0\" >15</td>\n",
       "      <td id=\"T_18198_row0_col1\" class=\"data row0 col1\" >1.68 %</td>\n",
       "    </tr>\n",
       "    <tr>\n",
       "      <th id=\"T_18198_level0_row1\" class=\"row_heading level0 row1\" >Missing</th>\n",
       "      <td id=\"T_18198_row1_col0\" class=\"data row1 col0\" >0</td>\n",
       "      <td id=\"T_18198_row1_col1\" class=\"data row1 col1\" >0.00 %</td>\n",
       "    </tr>\n",
       "    <tr>\n",
       "      <th id=\"T_18198_level0_row2\" class=\"row_heading level0 row2\" >Unknown</th>\n",
       "      <td id=\"T_18198_row2_col0\" class=\"data row2 col0\" >0</td>\n",
       "      <td id=\"T_18198_row2_col1\" class=\"data row2 col1\" >0.00 %</td>\n",
       "    </tr>\n",
       "    <tr>\n",
       "      <th id=\"T_18198_level0_row3\" class=\"row_heading level0 row3\" >Uniques</th>\n",
       "      <td id=\"T_18198_row3_col0\" class=\"data row3 col0\" >248</td>\n",
       "      <td id=\"T_18198_row3_col1\" class=\"data row3 col1\" >27.83 %</td>\n",
       "    </tr>\n",
       "    <tr>\n",
       "      <th id=\"T_18198_level0_row4\" class=\"row_heading level0 row4\" >Mean</th>\n",
       "      <td id=\"T_18198_row4_col0\" class=\"data row4 col0\" >32.20</td>\n",
       "      <td id=\"T_18198_row4_col1\" class=\"data row4 col1\" >-</td>\n",
       "    </tr>\n",
       "    <tr>\n",
       "      <th id=\"T_18198_level0_row5\" class=\"row_heading level0 row5\" >Median</th>\n",
       "      <td id=\"T_18198_row5_col0\" class=\"data row5 col0\" >14.45</td>\n",
       "      <td id=\"T_18198_row5_col1\" class=\"data row5 col1\" >-</td>\n",
       "    </tr>\n",
       "  </tbody>\n",
       "</table>\n"
      ],
      "text/plain": [
       "<pandas.io.formats.style.Styler at 0x173a2fed130>"
      ]
     },
     "metadata": {},
     "output_type": "display_data"
    },
    {
     "data": {
      "text/html": [
       "<style type=\"text/css\">\n",
       "</style>\n",
       "<table id=\"T_2169e\">\n",
       "  <caption>Top 10 Value Count Info</caption>\n",
       "  <thead>\n",
       "    <tr>\n",
       "      <th class=\"blank level0\" >&nbsp;</th>\n",
       "      <th id=\"T_2169e_level0_col0\" class=\"col_heading level0 col0\" >Value Count</th>\n",
       "      <th id=\"T_2169e_level0_col1\" class=\"col_heading level0 col1\" >% Value Count</th>\n",
       "    </tr>\n",
       "  </thead>\n",
       "  <tbody>\n",
       "    <tr>\n",
       "      <th id=\"T_2169e_level0_row0\" class=\"row_heading level0 row0\" >8.050000</th>\n",
       "      <td id=\"T_2169e_row0_col0\" class=\"data row0 col0\" >43</td>\n",
       "      <td id=\"T_2169e_row0_col1\" class=\"data row0 col1\" >4.826038</td>\n",
       "    </tr>\n",
       "    <tr>\n",
       "      <th id=\"T_2169e_level0_row1\" class=\"row_heading level0 row1\" >13.000000</th>\n",
       "      <td id=\"T_2169e_row1_col0\" class=\"data row1 col0\" >42</td>\n",
       "      <td id=\"T_2169e_row1_col1\" class=\"data row1 col1\" >4.713805</td>\n",
       "    </tr>\n",
       "    <tr>\n",
       "      <th id=\"T_2169e_level0_row2\" class=\"row_heading level0 row2\" >7.895800</th>\n",
       "      <td id=\"T_2169e_row2_col0\" class=\"data row2 col0\" >38</td>\n",
       "      <td id=\"T_2169e_row2_col1\" class=\"data row2 col1\" >4.264871</td>\n",
       "    </tr>\n",
       "    <tr>\n",
       "      <th id=\"T_2169e_level0_row3\" class=\"row_heading level0 row3\" >7.750000</th>\n",
       "      <td id=\"T_2169e_row3_col0\" class=\"data row3 col0\" >34</td>\n",
       "      <td id=\"T_2169e_row3_col1\" class=\"data row3 col1\" >3.815937</td>\n",
       "    </tr>\n",
       "    <tr>\n",
       "      <th id=\"T_2169e_level0_row4\" class=\"row_heading level0 row4\" >26.000000</th>\n",
       "      <td id=\"T_2169e_row4_col0\" class=\"data row4 col0\" >31</td>\n",
       "      <td id=\"T_2169e_row4_col1\" class=\"data row4 col1\" >3.479237</td>\n",
       "    </tr>\n",
       "    <tr>\n",
       "      <th id=\"T_2169e_level0_row5\" class=\"row_heading level0 row5\" >10.500000</th>\n",
       "      <td id=\"T_2169e_row5_col0\" class=\"data row5 col0\" >24</td>\n",
       "      <td id=\"T_2169e_row5_col1\" class=\"data row5 col1\" >2.693603</td>\n",
       "    </tr>\n",
       "    <tr>\n",
       "      <th id=\"T_2169e_level0_row6\" class=\"row_heading level0 row6\" >7.925000</th>\n",
       "      <td id=\"T_2169e_row6_col0\" class=\"data row6 col0\" >18</td>\n",
       "      <td id=\"T_2169e_row6_col1\" class=\"data row6 col1\" >2.020202</td>\n",
       "    </tr>\n",
       "    <tr>\n",
       "      <th id=\"T_2169e_level0_row7\" class=\"row_heading level0 row7\" >7.775000</th>\n",
       "      <td id=\"T_2169e_row7_col0\" class=\"data row7 col0\" >16</td>\n",
       "      <td id=\"T_2169e_row7_col1\" class=\"data row7 col1\" >1.795735</td>\n",
       "    </tr>\n",
       "    <tr>\n",
       "      <th id=\"T_2169e_level0_row8\" class=\"row_heading level0 row8\" >7.229200</th>\n",
       "      <td id=\"T_2169e_row8_col0\" class=\"data row8 col0\" >15</td>\n",
       "      <td id=\"T_2169e_row8_col1\" class=\"data row8 col1\" >1.683502</td>\n",
       "    </tr>\n",
       "    <tr>\n",
       "      <th id=\"T_2169e_level0_row9\" class=\"row_heading level0 row9\" >0.000000</th>\n",
       "      <td id=\"T_2169e_row9_col0\" class=\"data row9 col0\" >15</td>\n",
       "      <td id=\"T_2169e_row9_col1\" class=\"data row9 col1\" >1.683502</td>\n",
       "    </tr>\n",
       "  </tbody>\n",
       "</table>\n"
      ],
      "text/plain": [
       "<pandas.io.formats.style.Styler at 0x173a34591c0>"
      ]
     },
     "metadata": {},
     "output_type": "display_data"
    },
    {
     "data": {
      "text/plain": [
       "None"
      ]
     },
     "metadata": {},
     "output_type": "display_data"
    },
    {
     "name": "stdout",
     "output_type": "stream",
     "text": [
      "Cabin\n"
     ]
    },
    {
     "data": {
      "text/html": [
       "<style type=\"text/css\">\n",
       "</style>\n",
       "<table id=\"T_27628\">\n",
       "  <caption>Table Info</caption>\n",
       "  <thead>\n",
       "    <tr>\n",
       "      <th class=\"blank level0\" >&nbsp;</th>\n",
       "      <th id=\"T_27628_level0_col0\" class=\"col_heading level0 col0\" >Number</th>\n",
       "      <th id=\"T_27628_level0_col1\" class=\"col_heading level0 col1\" >Percentage</th>\n",
       "    </tr>\n",
       "    <tr>\n",
       "      <th class=\"index_name level0\" ></th>\n",
       "      <th class=\"blank col0\" >&nbsp;</th>\n",
       "      <th class=\"blank col1\" >&nbsp;</th>\n",
       "    </tr>\n",
       "  </thead>\n",
       "  <tbody>\n",
       "    <tr>\n",
       "      <th id=\"T_27628_level0_row0\" class=\"row_heading level0 row0\" >Zeroes</th>\n",
       "      <td id=\"T_27628_row0_col0\" class=\"data row0 col0\" >0</td>\n",
       "      <td id=\"T_27628_row0_col1\" class=\"data row0 col1\" >0.00 %</td>\n",
       "    </tr>\n",
       "    <tr>\n",
       "      <th id=\"T_27628_level0_row1\" class=\"row_heading level0 row1\" >Missing</th>\n",
       "      <td id=\"T_27628_row1_col0\" class=\"data row1 col0\" >687</td>\n",
       "      <td id=\"T_27628_row1_col1\" class=\"data row1 col1\" >77.10 %</td>\n",
       "    </tr>\n",
       "    <tr>\n",
       "      <th id=\"T_27628_level0_row2\" class=\"row_heading level0 row2\" >Unknown</th>\n",
       "      <td id=\"T_27628_row2_col0\" class=\"data row2 col0\" >0</td>\n",
       "      <td id=\"T_27628_row2_col1\" class=\"data row2 col1\" >0.00 %</td>\n",
       "    </tr>\n",
       "    <tr>\n",
       "      <th id=\"T_27628_level0_row3\" class=\"row_heading level0 row3\" >Uniques</th>\n",
       "      <td id=\"T_27628_row3_col0\" class=\"data row3 col0\" >148</td>\n",
       "      <td id=\"T_27628_row3_col1\" class=\"data row3 col1\" >16.61 %</td>\n",
       "    </tr>\n",
       "    <tr>\n",
       "      <th id=\"T_27628_level0_row4\" class=\"row_heading level0 row4\" >Mean</th>\n",
       "      <td id=\"T_27628_row4_col0\" class=\"data row4 col0\" >0.00</td>\n",
       "      <td id=\"T_27628_row4_col1\" class=\"data row4 col1\" >-</td>\n",
       "    </tr>\n",
       "    <tr>\n",
       "      <th id=\"T_27628_level0_row5\" class=\"row_heading level0 row5\" >Median</th>\n",
       "      <td id=\"T_27628_row5_col0\" class=\"data row5 col0\" >0.00</td>\n",
       "      <td id=\"T_27628_row5_col1\" class=\"data row5 col1\" >-</td>\n",
       "    </tr>\n",
       "  </tbody>\n",
       "</table>\n"
      ],
      "text/plain": [
       "<pandas.io.formats.style.Styler at 0x173a3287f10>"
      ]
     },
     "metadata": {},
     "output_type": "display_data"
    },
    {
     "data": {
      "text/html": [
       "<style type=\"text/css\">\n",
       "</style>\n",
       "<table id=\"T_84df5\">\n",
       "  <caption>Top 10 Value Count Info</caption>\n",
       "  <thead>\n",
       "    <tr>\n",
       "      <th class=\"blank level0\" >&nbsp;</th>\n",
       "      <th id=\"T_84df5_level0_col0\" class=\"col_heading level0 col0\" >Value Count</th>\n",
       "      <th id=\"T_84df5_level0_col1\" class=\"col_heading level0 col1\" >% Value Count</th>\n",
       "    </tr>\n",
       "  </thead>\n",
       "  <tbody>\n",
       "    <tr>\n",
       "      <th id=\"T_84df5_level0_row0\" class=\"row_heading level0 row0\" >B96 B98</th>\n",
       "      <td id=\"T_84df5_row0_col0\" class=\"data row0 col0\" >4</td>\n",
       "      <td id=\"T_84df5_row0_col1\" class=\"data row0 col1\" >1.960784</td>\n",
       "    </tr>\n",
       "    <tr>\n",
       "      <th id=\"T_84df5_level0_row1\" class=\"row_heading level0 row1\" >G6</th>\n",
       "      <td id=\"T_84df5_row1_col0\" class=\"data row1 col0\" >4</td>\n",
       "      <td id=\"T_84df5_row1_col1\" class=\"data row1 col1\" >1.960784</td>\n",
       "    </tr>\n",
       "    <tr>\n",
       "      <th id=\"T_84df5_level0_row2\" class=\"row_heading level0 row2\" >C23 C25 C27</th>\n",
       "      <td id=\"T_84df5_row2_col0\" class=\"data row2 col0\" >4</td>\n",
       "      <td id=\"T_84df5_row2_col1\" class=\"data row2 col1\" >1.960784</td>\n",
       "    </tr>\n",
       "    <tr>\n",
       "      <th id=\"T_84df5_level0_row3\" class=\"row_heading level0 row3\" >C22 C26</th>\n",
       "      <td id=\"T_84df5_row3_col0\" class=\"data row3 col0\" >3</td>\n",
       "      <td id=\"T_84df5_row3_col1\" class=\"data row3 col1\" >1.470588</td>\n",
       "    </tr>\n",
       "    <tr>\n",
       "      <th id=\"T_84df5_level0_row4\" class=\"row_heading level0 row4\" >F33</th>\n",
       "      <td id=\"T_84df5_row4_col0\" class=\"data row4 col0\" >3</td>\n",
       "      <td id=\"T_84df5_row4_col1\" class=\"data row4 col1\" >1.470588</td>\n",
       "    </tr>\n",
       "    <tr>\n",
       "      <th id=\"T_84df5_level0_row5\" class=\"row_heading level0 row5\" >F2</th>\n",
       "      <td id=\"T_84df5_row5_col0\" class=\"data row5 col0\" >3</td>\n",
       "      <td id=\"T_84df5_row5_col1\" class=\"data row5 col1\" >1.470588</td>\n",
       "    </tr>\n",
       "    <tr>\n",
       "      <th id=\"T_84df5_level0_row6\" class=\"row_heading level0 row6\" >E101</th>\n",
       "      <td id=\"T_84df5_row6_col0\" class=\"data row6 col0\" >3</td>\n",
       "      <td id=\"T_84df5_row6_col1\" class=\"data row6 col1\" >1.470588</td>\n",
       "    </tr>\n",
       "    <tr>\n",
       "      <th id=\"T_84df5_level0_row7\" class=\"row_heading level0 row7\" >D</th>\n",
       "      <td id=\"T_84df5_row7_col0\" class=\"data row7 col0\" >3</td>\n",
       "      <td id=\"T_84df5_row7_col1\" class=\"data row7 col1\" >1.470588</td>\n",
       "    </tr>\n",
       "    <tr>\n",
       "      <th id=\"T_84df5_level0_row8\" class=\"row_heading level0 row8\" >C78</th>\n",
       "      <td id=\"T_84df5_row8_col0\" class=\"data row8 col0\" >2</td>\n",
       "      <td id=\"T_84df5_row8_col1\" class=\"data row8 col1\" >0.980392</td>\n",
       "    </tr>\n",
       "    <tr>\n",
       "      <th id=\"T_84df5_level0_row9\" class=\"row_heading level0 row9\" >C93</th>\n",
       "      <td id=\"T_84df5_row9_col0\" class=\"data row9 col0\" >2</td>\n",
       "      <td id=\"T_84df5_row9_col1\" class=\"data row9 col1\" >0.980392</td>\n",
       "    </tr>\n",
       "  </tbody>\n",
       "</table>\n"
      ],
      "text/plain": [
       "<pandas.io.formats.style.Styler at 0x173a350ec70>"
      ]
     },
     "metadata": {},
     "output_type": "display_data"
    },
    {
     "data": {
      "text/plain": [
       "None"
      ]
     },
     "metadata": {},
     "output_type": "display_data"
    },
    {
     "name": "stdout",
     "output_type": "stream",
     "text": [
      "Embarked\n"
     ]
    },
    {
     "data": {
      "text/html": [
       "<style type=\"text/css\">\n",
       "</style>\n",
       "<table id=\"T_69bf9\">\n",
       "  <caption>Table Info</caption>\n",
       "  <thead>\n",
       "    <tr>\n",
       "      <th class=\"blank level0\" >&nbsp;</th>\n",
       "      <th id=\"T_69bf9_level0_col0\" class=\"col_heading level0 col0\" >Number</th>\n",
       "      <th id=\"T_69bf9_level0_col1\" class=\"col_heading level0 col1\" >Percentage</th>\n",
       "    </tr>\n",
       "    <tr>\n",
       "      <th class=\"index_name level0\" ></th>\n",
       "      <th class=\"blank col0\" >&nbsp;</th>\n",
       "      <th class=\"blank col1\" >&nbsp;</th>\n",
       "    </tr>\n",
       "  </thead>\n",
       "  <tbody>\n",
       "    <tr>\n",
       "      <th id=\"T_69bf9_level0_row0\" class=\"row_heading level0 row0\" >Zeroes</th>\n",
       "      <td id=\"T_69bf9_row0_col0\" class=\"data row0 col0\" >0</td>\n",
       "      <td id=\"T_69bf9_row0_col1\" class=\"data row0 col1\" >0.00 %</td>\n",
       "    </tr>\n",
       "    <tr>\n",
       "      <th id=\"T_69bf9_level0_row1\" class=\"row_heading level0 row1\" >Missing</th>\n",
       "      <td id=\"T_69bf9_row1_col0\" class=\"data row1 col0\" >2</td>\n",
       "      <td id=\"T_69bf9_row1_col1\" class=\"data row1 col1\" >0.22 %</td>\n",
       "    </tr>\n",
       "    <tr>\n",
       "      <th id=\"T_69bf9_level0_row2\" class=\"row_heading level0 row2\" >Unknown</th>\n",
       "      <td id=\"T_69bf9_row2_col0\" class=\"data row2 col0\" >0</td>\n",
       "      <td id=\"T_69bf9_row2_col1\" class=\"data row2 col1\" >0.00 %</td>\n",
       "    </tr>\n",
       "    <tr>\n",
       "      <th id=\"T_69bf9_level0_row3\" class=\"row_heading level0 row3\" >Uniques</th>\n",
       "      <td id=\"T_69bf9_row3_col0\" class=\"data row3 col0\" >4</td>\n",
       "      <td id=\"T_69bf9_row3_col1\" class=\"data row3 col1\" >0.45 %</td>\n",
       "    </tr>\n",
       "    <tr>\n",
       "      <th id=\"T_69bf9_level0_row4\" class=\"row_heading level0 row4\" >Mean</th>\n",
       "      <td id=\"T_69bf9_row4_col0\" class=\"data row4 col0\" >0.00</td>\n",
       "      <td id=\"T_69bf9_row4_col1\" class=\"data row4 col1\" >-</td>\n",
       "    </tr>\n",
       "    <tr>\n",
       "      <th id=\"T_69bf9_level0_row5\" class=\"row_heading level0 row5\" >Median</th>\n",
       "      <td id=\"T_69bf9_row5_col0\" class=\"data row5 col0\" >0.00</td>\n",
       "      <td id=\"T_69bf9_row5_col1\" class=\"data row5 col1\" >-</td>\n",
       "    </tr>\n",
       "  </tbody>\n",
       "</table>\n"
      ],
      "text/plain": [
       "<pandas.io.formats.style.Styler at 0x173a3300a60>"
      ]
     },
     "metadata": {},
     "output_type": "display_data"
    },
    {
     "data": {
      "text/html": [
       "<style type=\"text/css\">\n",
       "</style>\n",
       "<table id=\"T_c57db\">\n",
       "  <caption>Top 10 Value Count Info</caption>\n",
       "  <thead>\n",
       "    <tr>\n",
       "      <th class=\"blank level0\" >&nbsp;</th>\n",
       "      <th id=\"T_c57db_level0_col0\" class=\"col_heading level0 col0\" >Value Count</th>\n",
       "      <th id=\"T_c57db_level0_col1\" class=\"col_heading level0 col1\" >% Value Count</th>\n",
       "    </tr>\n",
       "  </thead>\n",
       "  <tbody>\n",
       "    <tr>\n",
       "      <th id=\"T_c57db_level0_row0\" class=\"row_heading level0 row0\" >S</th>\n",
       "      <td id=\"T_c57db_row0_col0\" class=\"data row0 col0\" >644</td>\n",
       "      <td id=\"T_c57db_row0_col1\" class=\"data row0 col1\" >72.440945</td>\n",
       "    </tr>\n",
       "    <tr>\n",
       "      <th id=\"T_c57db_level0_row1\" class=\"row_heading level0 row1\" >C</th>\n",
       "      <td id=\"T_c57db_row1_col0\" class=\"data row1 col0\" >168</td>\n",
       "      <td id=\"T_c57db_row1_col1\" class=\"data row1 col1\" >18.897638</td>\n",
       "    </tr>\n",
       "    <tr>\n",
       "      <th id=\"T_c57db_level0_row2\" class=\"row_heading level0 row2\" >Q</th>\n",
       "      <td id=\"T_c57db_row2_col0\" class=\"data row2 col0\" >77</td>\n",
       "      <td id=\"T_c57db_row2_col1\" class=\"data row2 col1\" >8.661417</td>\n",
       "    </tr>\n",
       "  </tbody>\n",
       "</table>\n"
      ],
      "text/plain": [
       "<pandas.io.formats.style.Styler at 0x173a30dde50>"
      ]
     },
     "metadata": {},
     "output_type": "display_data"
    },
    {
     "data": {
      "text/plain": [
       "None"
      ]
     },
     "metadata": {},
     "output_type": "display_data"
    },
    {
     "data": {
      "image/png": "[encoded data removed]",
      "text/plain": [
       "<Figure size 1080x576 with 1 Axes>"
      ]
     },
     "metadata": {
      "needs_background": "light"
     },
     "output_type": "display_data"
    },
    {
     "data": {
      "image/png": "[encoded data removed]",
      "text/plain": [
       "<Figure size 1080x576 with 1 Axes>"
      ]
     },
     "metadata": {
      "needs_background": "light"
     },
     "output_type": "display_data"
    },
    {
     "data": {
      "image/png": "[encoded data removed]",
      "text/plain": [
       "<Figure size 1080x576 with 1 Axes>"
      ]
     },
     "metadata": {
      "needs_background": "light"
     },
     "output_type": "display_data"
    },
    {
     "data": {
      "image/png": "[encoded data removed]",
      "text/plain": [
       "<Figure size 1080x576 with 1 Axes>"
      ]
     },
     "metadata": {
      "needs_background": "light"
     },
     "output_type": "display_data"
    },
    {
     "data": {
      "image/png": "[encoded data removed]",
      "text/plain": [
       "<Figure size 1080x576 with 1 Axes>"
      ]
     },
     "metadata": {
      "needs_background": "light"
     },
     "output_type": "display_data"
    },
    {
     "data": {
      "image/png": "[encoded data removed]",
      "text/plain": [
       "<Figure size 1080x576 with 1 Axes>"
      ]
     },
     "metadata": {
      "needs_background": "light"
     },
     "output_type": "display_data"
    },
    {
     "data": {
      "image/png": "[encoded data removed]",
      "text/plain": [
       "<Figure size 1080x576 with 1 Axes>"
      ]
     },
     "metadata": {
      "needs_background": "light"
     },
     "output_type": "display_data"
    },
    {
     "data": {
      "image/png": "[encoded data removed]",
      "text/plain": [
       "<Figure size 1080x576 with 1 Axes>"
      ]
     },
     "metadata": {
      "needs_background": "light"
     },
     "output_type": "display_data"
    },
    {
     "data": {
      "image/png": "[encoded data removed]",
      "text/plain": [
       "<Figure size 1080x576 with 1 Axes>"
      ]
     },
     "metadata": {
      "needs_background": "light"
     },
     "output_type": "display_data"
    },
    {
     "data": {
      "image/png": "[encoded data removed]",
      "text/plain": [
       "<Figure size 1080x576 with 1 Axes>"
      ]
     },
     "metadata": {
      "needs_background": "light"
     },
     "output_type": "display_data"
    },
    {
     "data": {
      "image/png": "[encoded data removed]",
      "text/plain": [
       "<Figure size 1080x576 with 1 Axes>"
      ]
     },
     "metadata": {
      "needs_background": "light"
     },
     "output_type": "display_data"
    },
    {
     "data": {
      "image/png": "[encoded data removed]",
      "text/plain": [
       "<Figure size 1080x576 with 1 Axes>"
      ]
     },
     "metadata": {
      "needs_background": "light"
     },
     "output_type": "display_data"
    },
    {
     "data": {
      "image/png": "[encoded data removed]",
      "text/plain": [
       "<Figure size 1080x576 with 1 Axes>"
      ]
     },
     "metadata": {
      "needs_background": "light"
     },
     "output_type": "display_data"
    },
    {
     "data": {
      "image/png": "[encoded data removed]",
      "text/plain": [
       "<Figure size 1080x576 with 1 Axes>"
      ]
     },
     "metadata": {
      "needs_background": "light"
     },
     "output_type": "display_data"
    },
    {
     "data": {
      "image/png": "[encoded data removed]",
      "text/plain": [
       "<Figure size 1080x576 with 1 Axes>"
      ]
     },
     "metadata": {
      "needs_background": "light"
     },
     "output_type": "display_data"
    },
    {
     "data": {
      "image/png": "[encoded data removed]",
      "text/plain": [
       "<Figure size 1080x576 with 1 Axes>"
      ]
     },
     "metadata": {
      "needs_background": "light"
     },
     "output_type": "display_data"
    },
    {
     "data": {
      "image/png": "[encoded data removed]",
      "text/plain": [
       "<Figure size 1080x576 with 1 Axes>"
      ]
     },
     "metadata": {
      "needs_background": "light"
     },
     "output_type": "display_data"
    },
    {
     "data": {
      "image/png": "[encoded data removed]",
      "text/plain": [
       "<Figure size 1080x576 with 1 Axes>"
      ]
     },
     "metadata": {
      "needs_background": "light"
     },
     "output_type": "display_data"
    },
    {
     "data": {
      "image/png": "[encoded data removed]",
      "text/plain": [
       "<Figure size 1080x576 with 1 Axes>"
      ]
     },
     "metadata": {
      "needs_background": "light"
     },
     "output_type": "display_data"
    }
   ],
   "source": [
    "for col in df_titanic.columns:\n",
    "    print(col)\n",
    "    display(colInfo(df_titanic[col]))"
   ]
  },
  {
   "cell_type": "code",
   "execution_count": null,
   "id": "671b4af3",
   "metadata": {},
   "outputs": [],
   "source": []
  },
  {
   "cell_type": "code",
   "execution_count": null,
   "id": "22d0a437",
   "metadata": {},
   "outputs": [],
   "source": []
  },
  {
   "cell_type": "code",
   "execution_count": null,
   "id": "f0970caf",
   "metadata": {},
   "outputs": [],
   "source": []
  },
  {
   "cell_type": "code",
   "execution_count": null,
   "id": "0229aeff",
   "metadata": {},
   "outputs": [],
   "source": []
  },
  {
   "cell_type": "code",
   "execution_count": 8,
   "id": "adb7ccaf",
   "metadata": {
    "ExecuteTime": {
     "end_time": "2022-07-08T16:08:51.503091Z",
     "start_time": "2022-07-08T16:08:51.489083Z"
    }
   },
   "outputs": [
    {
     "data": {
      "text/plain": [
       "Index(['PassengerId', 'Survived', 'Pclass', 'Name', 'Sex', 'Age', 'SibSp',\n",
       "       'Parch', 'Ticket', 'Fare', 'Cabin', 'Embarked'],\n",
       "      dtype='object')"
      ]
     },
     "execution_count": 8,
     "metadata": {},
     "output_type": "execute_result"
    }
   ],
   "source": [
    "df_titanic.columns"
   ]
  },
  {
   "cell_type": "code",
   "execution_count": 12,
   "id": "b6e2ece4",
   "metadata": {
    "ExecuteTime": {
     "end_time": "2022-07-08T16:09:24.675763Z",
     "start_time": "2022-07-08T16:09:24.659196Z"
    }
   },
   "outputs": [
    {
     "data": {
      "text/html": [
       "<div>\n",
       "<style scoped>\n",
       "    .dataframe tbody tr th:only-of-type {\n",
       "        vertical-align: middle;\n",
       "    }\n",
       "\n",
       "    .dataframe tbody tr th {\n",
       "        vertical-align: top;\n",
       "    }\n",
       "\n",
       "    .dataframe thead th {\n",
       "        text-align: right;\n",
       "    }\n",
       "</style>\n",
       "<table border=\"1\" class=\"dataframe\">\n",
       "  <thead>\n",
       "    <tr style=\"text-align: right;\">\n",
       "      <th></th>\n",
       "      <th>Survived</th>\n",
       "      <th>Pclass</th>\n",
       "      <th>Sex</th>\n",
       "      <th>Age</th>\n",
       "      <th>Fare</th>\n",
       "    </tr>\n",
       "  </thead>\n",
       "  <tbody>\n",
       "    <tr>\n",
       "      <th>0</th>\n",
       "      <td>0</td>\n",
       "      <td>3</td>\n",
       "      <td>male</td>\n",
       "      <td>22.0</td>\n",
       "      <td>7.2500</td>\n",
       "    </tr>\n",
       "    <tr>\n",
       "      <th>1</th>\n",
       "      <td>1</td>\n",
       "      <td>1</td>\n",
       "      <td>female</td>\n",
       "      <td>38.0</td>\n",
       "      <td>71.2833</td>\n",
       "    </tr>\n",
       "    <tr>\n",
       "      <th>2</th>\n",
       "      <td>1</td>\n",
       "      <td>3</td>\n",
       "      <td>female</td>\n",
       "      <td>26.0</td>\n",
       "      <td>7.9250</td>\n",
       "    </tr>\n",
       "    <tr>\n",
       "      <th>3</th>\n",
       "      <td>1</td>\n",
       "      <td>1</td>\n",
       "      <td>female</td>\n",
       "      <td>35.0</td>\n",
       "      <td>53.1000</td>\n",
       "    </tr>\n",
       "    <tr>\n",
       "      <th>4</th>\n",
       "      <td>0</td>\n",
       "      <td>3</td>\n",
       "      <td>male</td>\n",
       "      <td>35.0</td>\n",
       "      <td>8.0500</td>\n",
       "    </tr>\n",
       "    <tr>\n",
       "      <th>...</th>\n",
       "      <td>...</td>\n",
       "      <td>...</td>\n",
       "      <td>...</td>\n",
       "      <td>...</td>\n",
       "      <td>...</td>\n",
       "    </tr>\n",
       "    <tr>\n",
       "      <th>886</th>\n",
       "      <td>0</td>\n",
       "      <td>2</td>\n",
       "      <td>male</td>\n",
       "      <td>27.0</td>\n",
       "      <td>13.0000</td>\n",
       "    </tr>\n",
       "    <tr>\n",
       "      <th>887</th>\n",
       "      <td>1</td>\n",
       "      <td>1</td>\n",
       "      <td>female</td>\n",
       "      <td>19.0</td>\n",
       "      <td>30.0000</td>\n",
       "    </tr>\n",
       "    <tr>\n",
       "      <th>888</th>\n",
       "      <td>0</td>\n",
       "      <td>3</td>\n",
       "      <td>female</td>\n",
       "      <td>NaN</td>\n",
       "      <td>23.4500</td>\n",
       "    </tr>\n",
       "    <tr>\n",
       "      <th>889</th>\n",
       "      <td>1</td>\n",
       "      <td>1</td>\n",
       "      <td>male</td>\n",
       "      <td>26.0</td>\n",
       "      <td>30.0000</td>\n",
       "    </tr>\n",
       "    <tr>\n",
       "      <th>890</th>\n",
       "      <td>0</td>\n",
       "      <td>3</td>\n",
       "      <td>male</td>\n",
       "      <td>32.0</td>\n",
       "      <td>7.7500</td>\n",
       "    </tr>\n",
       "  </tbody>\n",
       "</table>\n",
       "<p>891 rows × 5 columns</p>\n",
       "</div>"
      ],
      "text/plain": [
       "     Survived  Pclass     Sex   Age     Fare\n",
       "0           0       3    male  22.0   7.2500\n",
       "1           1       1  female  38.0  71.2833\n",
       "2           1       3  female  26.0   7.9250\n",
       "3           1       1  female  35.0  53.1000\n",
       "4           0       3    male  35.0   8.0500\n",
       "..        ...     ...     ...   ...      ...\n",
       "886         0       2    male  27.0  13.0000\n",
       "887         1       1  female  19.0  30.0000\n",
       "888         0       3  female   NaN  23.4500\n",
       "889         1       1    male  26.0  30.0000\n",
       "890         0       3    male  32.0   7.7500\n",
       "\n",
       "[891 rows x 5 columns]"
      ]
     },
     "execution_count": 12,
     "metadata": {},
     "output_type": "execute_result"
    }
   ],
   "source": [
    "df_titanic.drop(columns = ['PassengerId','Name','SibSp','Parch','Embarked','Cabin','Ticket'], inplace=True)\n",
    "df_titanic"
   ]
  },
  {
   "cell_type": "code",
   "execution_count": null,
   "id": "b1efd41b",
   "metadata": {},
   "outputs": [],
   "source": []
  },
  {
   "cell_type": "code",
   "execution_count": null,
   "id": "6d0c19e2",
   "metadata": {},
   "outputs": [],
   "source": []
  },
  {
   "cell_type": "code",
   "execution_count": null,
   "id": "f1dbac28",
   "metadata": {},
   "outputs": [],
   "source": []
  },
  {
   "cell_type": "code",
   "execution_count": null,
   "id": "c9d19d03",
   "metadata": {},
   "outputs": [],
   "source": []
  },
  {
   "cell_type": "markdown",
   "id": "70da1b0d",
   "metadata": {},
   "source": [
    "# Impute age"
   ]
  },
  {
   "cell_type": "code",
   "execution_count": 21,
   "id": "36f72d29",
   "metadata": {
    "ExecuteTime": {
     "end_time": "2022-07-08T16:12:12.942418Z",
     "start_time": "2022-07-08T16:12:12.931424Z"
    }
   },
   "outputs": [
    {
     "data": {
      "text/plain": [
       "28.0"
      ]
     },
     "execution_count": 21,
     "metadata": {},
     "output_type": "execute_result"
    }
   ],
   "source": [
    "df_titanic.Age.median()"
   ]
  },
  {
   "cell_type": "code",
   "execution_count": 23,
   "id": "4e0b829a",
   "metadata": {
    "ExecuteTime": {
     "end_time": "2022-07-08T16:12:34.147215Z",
     "start_time": "2022-07-08T16:12:34.139214Z"
    }
   },
   "outputs": [],
   "source": [
    "df_titanic.Age.fillna(df_titanic.Age.median(),inplace=True)"
   ]
  },
  {
   "cell_type": "markdown",
   "id": "96edea27",
   "metadata": {},
   "source": [
    "# One Hot Encode Sex"
   ]
  },
  {
   "cell_type": "markdown",
   "id": "5f3a226a",
   "metadata": {},
   "source": [
    "## 1 = male, 0 = female"
   ]
  },
  {
   "cell_type": "code",
   "execution_count": 26,
   "id": "faa4c396",
   "metadata": {
    "ExecuteTime": {
     "end_time": "2022-07-08T16:14:26.834773Z",
     "start_time": "2022-07-08T16:14:26.827771Z"
    }
   },
   "outputs": [
    {
     "data": {
      "text/plain": [
       "0        male\n",
       "1      female\n",
       "2      female\n",
       "3      female\n",
       "4        male\n",
       "        ...  \n",
       "886      male\n",
       "887    female\n",
       "888    female\n",
       "889      male\n",
       "890      male\n",
       "Name: Sex, Length: 891, dtype: object"
      ]
     },
     "execution_count": 26,
     "metadata": {},
     "output_type": "execute_result"
    }
   ],
   "source": [
    "df_titanic.Sex"
   ]
  },
  {
   "cell_type": "code",
   "execution_count": 27,
   "id": "61efd40b",
   "metadata": {
    "ExecuteTime": {
     "end_time": "2022-07-08T16:14:38.672983Z",
     "start_time": "2022-07-08T16:14:38.658981Z"
    }
   },
   "outputs": [
    {
     "data": {
      "text/html": [
       "<div>\n",
       "<style scoped>\n",
       "    .dataframe tbody tr th:only-of-type {\n",
       "        vertical-align: middle;\n",
       "    }\n",
       "\n",
       "    .dataframe tbody tr th {\n",
       "        vertical-align: top;\n",
       "    }\n",
       "\n",
       "    .dataframe thead th {\n",
       "        text-align: right;\n",
       "    }\n",
       "</style>\n",
       "<table border=\"1\" class=\"dataframe\">\n",
       "  <thead>\n",
       "    <tr style=\"text-align: right;\">\n",
       "      <th></th>\n",
       "      <th>female</th>\n",
       "      <th>male</th>\n",
       "    </tr>\n",
       "  </thead>\n",
       "  <tbody>\n",
       "    <tr>\n",
       "      <th>0</th>\n",
       "      <td>0</td>\n",
       "      <td>1</td>\n",
       "    </tr>\n",
       "    <tr>\n",
       "      <th>1</th>\n",
       "      <td>1</td>\n",
       "      <td>0</td>\n",
       "    </tr>\n",
       "    <tr>\n",
       "      <th>2</th>\n",
       "      <td>1</td>\n",
       "      <td>0</td>\n",
       "    </tr>\n",
       "    <tr>\n",
       "      <th>3</th>\n",
       "      <td>1</td>\n",
       "      <td>0</td>\n",
       "    </tr>\n",
       "    <tr>\n",
       "      <th>4</th>\n",
       "      <td>0</td>\n",
       "      <td>1</td>\n",
       "    </tr>\n",
       "    <tr>\n",
       "      <th>...</th>\n",
       "      <td>...</td>\n",
       "      <td>...</td>\n",
       "    </tr>\n",
       "    <tr>\n",
       "      <th>886</th>\n",
       "      <td>0</td>\n",
       "      <td>1</td>\n",
       "    </tr>\n",
       "    <tr>\n",
       "      <th>887</th>\n",
       "      <td>1</td>\n",
       "      <td>0</td>\n",
       "    </tr>\n",
       "    <tr>\n",
       "      <th>888</th>\n",
       "      <td>1</td>\n",
       "      <td>0</td>\n",
       "    </tr>\n",
       "    <tr>\n",
       "      <th>889</th>\n",
       "      <td>0</td>\n",
       "      <td>1</td>\n",
       "    </tr>\n",
       "    <tr>\n",
       "      <th>890</th>\n",
       "      <td>0</td>\n",
       "      <td>1</td>\n",
       "    </tr>\n",
       "  </tbody>\n",
       "</table>\n",
       "<p>891 rows × 2 columns</p>\n",
       "</div>"
      ],
      "text/plain": [
       "     female  male\n",
       "0         0     1\n",
       "1         1     0\n",
       "2         1     0\n",
       "3         1     0\n",
       "4         0     1\n",
       "..      ...   ...\n",
       "886       0     1\n",
       "887       1     0\n",
       "888       1     0\n",
       "889       0     1\n",
       "890       0     1\n",
       "\n",
       "[891 rows x 2 columns]"
      ]
     },
     "execution_count": 27,
     "metadata": {},
     "output_type": "execute_result"
    }
   ],
   "source": [
    "pd.get_dummies(df_titanic.Sex)"
   ]
  },
  {
   "cell_type": "code",
   "execution_count": 25,
   "id": "c688de53",
   "metadata": {
    "ExecuteTime": {
     "end_time": "2022-07-08T16:12:49.486564Z",
     "start_time": "2022-07-08T16:12:49.467560Z"
    }
   },
   "outputs": [
    {
     "data": {
      "text/html": [
       "<div>\n",
       "<style scoped>\n",
       "    .dataframe tbody tr th:only-of-type {\n",
       "        vertical-align: middle;\n",
       "    }\n",
       "\n",
       "    .dataframe tbody tr th {\n",
       "        vertical-align: top;\n",
       "    }\n",
       "\n",
       "    .dataframe thead th {\n",
       "        text-align: right;\n",
       "    }\n",
       "</style>\n",
       "<table border=\"1\" class=\"dataframe\">\n",
       "  <thead>\n",
       "    <tr style=\"text-align: right;\">\n",
       "      <th></th>\n",
       "      <th>Survived</th>\n",
       "      <th>Pclass</th>\n",
       "      <th>Age</th>\n",
       "      <th>Fare</th>\n",
       "    </tr>\n",
       "  </thead>\n",
       "  <tbody>\n",
       "    <tr>\n",
       "      <th>count</th>\n",
       "      <td>891.000000</td>\n",
       "      <td>891.000000</td>\n",
       "      <td>891.000000</td>\n",
       "      <td>891.000000</td>\n",
       "    </tr>\n",
       "    <tr>\n",
       "      <th>mean</th>\n",
       "      <td>0.383838</td>\n",
       "      <td>2.308642</td>\n",
       "      <td>29.361582</td>\n",
       "      <td>32.204208</td>\n",
       "    </tr>\n",
       "    <tr>\n",
       "      <th>std</th>\n",
       "      <td>0.486592</td>\n",
       "      <td>0.836071</td>\n",
       "      <td>13.019697</td>\n",
       "      <td>49.693429</td>\n",
       "    </tr>\n",
       "    <tr>\n",
       "      <th>min</th>\n",
       "      <td>0.000000</td>\n",
       "      <td>1.000000</td>\n",
       "      <td>0.420000</td>\n",
       "      <td>0.000000</td>\n",
       "    </tr>\n",
       "    <tr>\n",
       "      <th>25%</th>\n",
       "      <td>0.000000</td>\n",
       "      <td>2.000000</td>\n",
       "      <td>22.000000</td>\n",
       "      <td>7.910400</td>\n",
       "    </tr>\n",
       "    <tr>\n",
       "      <th>50%</th>\n",
       "      <td>0.000000</td>\n",
       "      <td>3.000000</td>\n",
       "      <td>28.000000</td>\n",
       "      <td>14.454200</td>\n",
       "    </tr>\n",
       "    <tr>\n",
       "      <th>75%</th>\n",
       "      <td>1.000000</td>\n",
       "      <td>3.000000</td>\n",
       "      <td>35.000000</td>\n",
       "      <td>31.000000</td>\n",
       "    </tr>\n",
       "    <tr>\n",
       "      <th>max</th>\n",
       "      <td>1.000000</td>\n",
       "      <td>3.000000</td>\n",
       "      <td>80.000000</td>\n",
       "      <td>512.329200</td>\n",
       "    </tr>\n",
       "  </tbody>\n",
       "</table>\n",
       "</div>"
      ],
      "text/plain": [
       "         Survived      Pclass         Age        Fare\n",
       "count  891.000000  891.000000  891.000000  891.000000\n",
       "mean     0.383838    2.308642   29.361582   32.204208\n",
       "std      0.486592    0.836071   13.019697   49.693429\n",
       "min      0.000000    1.000000    0.420000    0.000000\n",
       "25%      0.000000    2.000000   22.000000    7.910400\n",
       "50%      0.000000    3.000000   28.000000   14.454200\n",
       "75%      1.000000    3.000000   35.000000   31.000000\n",
       "max      1.000000    3.000000   80.000000  512.329200"
      ]
     },
     "execution_count": 25,
     "metadata": {},
     "output_type": "execute_result"
    }
   ],
   "source": [
    "df_titanic.describe()"
   ]
  },
  {
   "cell_type": "code",
   "execution_count": null,
   "id": "974fb23e",
   "metadata": {},
   "outputs": [],
   "source": []
  },
  {
   "cell_type": "code",
   "execution_count": null,
   "id": "59a4f2d4",
   "metadata": {},
   "outputs": [],
   "source": []
  },
  {
   "cell_type": "code",
   "execution_count": null,
   "id": "16612d53",
   "metadata": {},
   "outputs": [],
   "source": []
  },
  {
   "cell_type": "markdown",
   "id": "eb4b15ce",
   "metadata": {},
   "source": [
    "# Construct Pipelines"
   ]
  },
  {
   "cell_type": "code",
   "execution_count": null,
   "id": "f3699c9a",
   "metadata": {},
   "outputs": [],
   "source": []
  }
 ],
 "metadata": {
  "kernelspec": {
   "display_name": "tfGPU",
   "language": "python",
   "name": "tfgpu"
  },
  "language_info": {
   "codemirror_mode": {
    "name": "ipython",
    "version": 3
   },
   "file_extension": ".py",
   "mimetype": "text/x-python",
   "name": "python",
   "nbconvert_exporter": "python",
   "pygments_lexer": "ipython3",
   "version": "3.9.12"
  },
  "toc": {
   "base_numbering": 1,
   "nav_menu": {},
   "number_sections": true,
   "sideBar": true,
   "skip_h1_title": false,
   "title_cell": "Table of Contents",
   "title_sidebar": "Contents",
   "toc_cell": false,
   "toc_position": {},
   "toc_section_display": true,
   "toc_window_display": false
  },
  "varInspector": {
   "cols": {
    "lenName": 16,
    "lenType": 16,
    "lenVar": 40
   },
   "kernels_config": {
    "python": {
     "delete_cmd_postfix": "",
     "delete_cmd_prefix": "del ",
     "library": "var_list.py",
     "varRefreshCmd": "print(var_dic_list())"
    },
    "r": {
     "delete_cmd_postfix": ") ",
     "delete_cmd_prefix": "rm(",
     "library": "var_list.r",
     "varRefreshCmd": "cat(var_dic_list()) "
    }
   },
   "types_to_exclude": [
    "module",
    "function",
    "builtin_function_or_method",
    "instance",
    "_Feature"
   ],
   "window_display": false
  }
 },
 "nbformat": 4,
 "nbformat_minor": 5
}
